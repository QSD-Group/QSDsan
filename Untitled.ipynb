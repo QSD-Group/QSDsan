{
 "cells": [
  {
   "cell_type": "code",
   "execution_count": null,
   "id": "9059c676-2fe3-47db-ae41-67fa512d31ca",
   "metadata": {},
   "outputs": [],
   "source": [
    "import qsdsan as qs"
   ]
  },
  {
   "cell_type": "code",
   "execution_count": null,
   "id": "ef0fefcd-ab40-4b4c-8483-7a8d4253023c",
   "metadata": {},
   "outputs": [],
   "source": [
    "qs.__path__"
   ]
  },
  {
   "cell_type": "code",
   "execution_count": null,
   "id": "36ec880b-5a75-43f6-9487-70a458c0a196",
   "metadata": {},
   "outputs": [],
   "source": [
    "import sys\n",
    "sys.path"
   ]
  },
  {
   "cell_type": "code",
   "execution_count": null,
   "id": "f737f00c-4f98-4b74-9da2-535e4d428c0a",
   "metadata": {},
   "outputs": [],
   "source": [
    "qs.Component?"
   ]
  },
  {
   "cell_type": "code",
   "execution_count": null,
   "id": "fce11b6d-0cd9-4650-8f04-1e0252514cd6",
   "metadata": {},
   "outputs": [],
   "source": [
    "XPAO = qs.Component('XPAO', formula='C5H7O2N', particle_size='Particulate', measured_as='COD', degradability='Biological', organic=True)\n",
    "XPAO.show(chemical_info=True)"
   ]
  },
  {
   "cell_type": "code",
   "execution_count": null,
   "id": "dcd06bca-08ce-42ee-9cc9-9943247e12ea",
   "metadata": {},
   "outputs": [],
   "source": [
    "XPAO.MW?"
   ]
  },
  {
   "cell_type": "code",
   "execution_count": null,
   "id": "2474df8d-ca50-4b6f-87c3-2455a75f961e",
   "metadata": {},
   "outputs": [],
   "source": [
    "qs.Chemical?"
   ]
  },
  {
   "cell_type": "code",
   "execution_count": null,
   "id": "4d15a85e-0b47-4e32-9fef-5ec089ea9ef6",
   "metadata": {},
   "outputs": [],
   "source": [
    "H2O_chem = qs.Chemical('H2O')\n",
    "H2O = qs.Component.from_chemical(ID='H2O', chemical=H2O_chem,  \n",
    "                                 particle_size='Soluble', degradability='Undegradable', organic=False)\n",
    "H2O.show()"
   ]
  },
  {
   "cell_type": "code",
   "execution_count": null,
   "id": "2f4fa7b9-20c5-47d6-a86a-0cb0e5af4aa4",
   "metadata": {},
   "outputs": [],
   "source": [
    "SNH4 = qs.Component('SNH4', search_ID='Ammonium', measured_as='N', phase='l',\n",
    "                    particle_size='Soluble', degradability='Undegradable',\n",
    "                    organic=False)\n",
    "SNH4.show(True)"
   ]
  },
  {
   "cell_type": "code",
   "execution_count": null,
   "id": "43a23729-862f-47ed-8c86-67403ef61dda",
   "metadata": {},
   "outputs": [],
   "source": [
    "cmps1 = qs.Components((XPAO, SNH4))\n",
    "cmps1.append(H2O)\n",
    "cmps1"
   ]
  },
  {
   "cell_type": "code",
   "execution_count": null,
   "id": "51680a82-1c08-446e-8c1a-92e78c3dd141",
   "metadata": {},
   "outputs": [],
   "source": [
    "Methanol = qs.Component('Methanol', search_ID='methanol', particle_size='Soluble', degradability='Readily',\n",
    "                       organic=True)\n",
    "Ethanol = qs.Component('Ethanol', search_ID='ethanol', particle_size='Soluble', degradability='Readily',\n",
    "                       organic=True)\n",
    "cmps1.extend((Methanol, Ethanol))\n",
    "cmps1"
   ]
  },
  {
   "cell_type": "code",
   "execution_count": null,
   "id": "c2231454-7c82-40e0-b939-c463395225c7",
   "metadata": {},
   "outputs": [],
   "source": [
    "cmps2 = qs.Chemicals((qs.Chemical('Water'), qs.Chemical('Ethanol')))\n",
    "data ={'Water': {'particle_size':'Soluble', 'degradability':'Undegradable', 'organic':False},\n",
    "       'Ethanol': {'particle_size':'Soluble', 'degradability':'Readily', 'organic':True}}\n",
    "cmps = qs.Components.from_chemicals(cmps2, **data)\n",
    "cmps"
   ]
  },
  {
   "cell_type": "code",
   "execution_count": null,
   "id": "84922316-442e-4626-b7f9-0f8ec9430adf",
   "metadata": {},
   "outputs": [],
   "source": [
    "cmps = qs.Components.load_default()\n",
    "qs.set_thermo(cmps)\n",
    "cmps"
   ]
  },
  {
   "cell_type": "code",
   "execution_count": null,
   "id": "0b0710d5-6797-478e-b1a9-edaff64a11dc",
   "metadata": {},
   "outputs": [],
   "source": [
    "ws1 = qs.WasteStream('ws1', X_GAO_Gly=.5, H2O=1000, units='kg/hr')\n",
    "ws1.show()"
   ]
  },
  {
   "cell_type": "code",
   "execution_count": null,
   "id": "5f28d13e-d9aa-412f-9505-05850c768aee",
   "metadata": {},
   "outputs": [],
   "source": [
    "?qs.WasteStream.composite"
   ]
  },
  {
   "cell_type": "code",
   "execution_count": null,
   "id": "015e611c-a7db-40e1-b25a-8202acca5f91",
   "metadata": {},
   "outputs": [],
   "source": [
    "qs.sanunits.PrimaryClarifier"
   ]
  },
  {
   "cell_type": "code",
   "execution_count": null,
   "id": "fbedee32-f586-431a-af86-ae3092ad5107",
   "metadata": {},
   "outputs": [],
   "source": [
    "qs.SanUnit?"
   ]
  },
  {
   "cell_type": "code",
   "execution_count": null,
   "id": "c5c02ab5-a3d3-4659-bcba-d9c626d50840",
   "metadata": {},
   "outputs": [],
   "source": [
    "qs.SanUnit.simulate?"
   ]
  },
  {
   "cell_type": "code",
   "execution_count": null,
   "id": "43955e17-fe92-4492-aac8-a6e5f99605b0",
   "metadata": {},
   "outputs": [],
   "source": [
    "cmps = qs.Components.load_default()\n",
    "qs.set_thermo(cmps)\n",
    "cmps"
   ]
  },
  {
   "cell_type": "code",
   "execution_count": null,
   "id": "cee31822-491b-4d23-b620-2cbcda3a9904",
   "metadata": {},
   "outputs": [],
   "source": [
    "ws1 = qs.WasteStream('ws1', H2O=100)\n",
    "ws2 = ws1.copy(new_ID='ws2')\n",
    "ws2.imol['X_GAO_Gly'] = ws2.imol['X_GAO_PHA'] = 0.01\n",
    "ws3 = qs.WasteStream.codstates_inf_model('ws3', flow_tot=50)"
   ]
  },
  {
   "cell_type": "code",
   "execution_count": null,
   "id": "9318e842-2668-4997-9cd8-1fcc11aacb9b",
   "metadata": {},
   "outputs": [],
   "source": [
    "su = qs.sanunits\n",
    "su.Mixer?"
   ]
  },
  {
   "cell_type": "code",
   "execution_count": null,
   "id": "0de51360-2a99-49c5-9642-893e4a32216e",
   "metadata": {},
   "outputs": [],
   "source": [
    "M1 = su.Mixer(ins=(ws1, ws2, ws3))\n",
    "M1.show()"
   ]
  },
  {
   "cell_type": "code",
   "execution_count": null,
   "id": "792efce1-74c6-4aa6-91f4-eacd486f7d2f",
   "metadata": {},
   "outputs": [],
   "source": [
    "M1.simulate()\n",
    "M1.show()"
   ]
  },
  {
   "cell_type": "code",
   "execution_count": null,
   "id": "26ebeb40-270e-4564-8c87-66c42edbe453",
   "metadata": {},
   "outputs": [],
   "source": [
    "ws4 = qs.WasteStream()\n",
    "ws4.mix_from(M1.ins)\n",
    "ws4.show()\n",
    "ws4.mass == M1.outs[0].mass"
   ]
  },
  {
   "cell_type": "code",
   "execution_count": null,
   "id": "27b2a3ce-f919-46da-af40-5da7b742eea3",
   "metadata": {},
   "outputs": [],
   "source": [
    "M1.diagram()"
   ]
  },
  {
   "cell_type": "code",
   "execution_count": null,
   "id": "104e0c68-1165-4176-a7e1-149916c23d3d",
   "metadata": {},
   "outputs": [],
   "source": [
    "qs.set_thermo(cmps)\n",
    "import biosteam as bst\n",
    "M2 = su.MixTank('M2', ins=(ws1, ws2, ws3), outs='M2out', tau=1, kW_per_m3=1)\n",
    "M2.show()"
   ]
  },
  {
   "cell_type": "code",
   "execution_count": null,
   "id": "08cf8d66-7a12-4f66-b2c2-202d7d50a033",
   "metadata": {},
   "outputs": [],
   "source": [
    "M2.simulate()\n",
    "print(M2.results())"
   ]
  },
  {
   "cell_type": "code",
   "execution_count": null,
   "id": "b2e4d764-4d2a-4b87-8b69-3dcefd92d63e",
   "metadata": {},
   "outputs": [],
   "source": []
  },
  {
   "cell_type": "code",
   "execution_count": null,
   "id": "107081a9-9a27-4c7a-a098-ea9310336ff2",
   "metadata": {},
   "outputs": [],
   "source": [
    "qs.__version__"
   ]
  },
  {
   "cell_type": "code",
   "execution_count": null,
   "id": "c7b07d26-db6d-49cd-b25b-150613015819",
   "metadata": {},
   "outputs": [],
   "source": [
    "from IPython.display import Image\n",
    "Image(url= \"https://www.researchgate.net/profile/Ramon-Vilanova/publication/301305911/figure/fig1/AS:352977123594240@1461167712833/Benchmark-Simulation-Model-No-1-BSM1-plant-layout.png\")"
   ]
  },
  {
   "cell_type": "code",
   "execution_count": null,
   "id": "f1cfd8ff-b64d-49f6-857c-5dfc1504dd4c",
   "metadata": {},
   "outputs": [],
   "source": [
    "cmps = qs.Components.load_default()\n",
    "cmps"
   ]
  },
  {
   "cell_type": "code",
   "execution_count": null,
   "id": "1826f045-bd14-4514-926f-3dce5a99b09f",
   "metadata": {},
   "outputs": [],
   "source": [
    "cmps.set_alias('H2O', 'Water')\n",
    "cmps.H2O == cmps.Water\n",
    "qs.set_thermo(cmps)"
   ]
  },
  {
   "cell_type": "code",
   "execution_count": null,
   "id": "3088a39b-c7f5-46cf-9390-84e6d3af7187",
   "metadata": {},
   "outputs": [],
   "source": [
    "ww = qs.WasteStream.codbased_inf_model('ww', flow_tot=1000, units=('L/hr', 'mg/L'))\n",
    "ww.show()"
   ]
  },
  {
   "cell_type": "code",
   "execution_count": null,
   "id": "1217e241-f563-47c8-a9e9-2d31497e1713",
   "metadata": {},
   "outputs": [],
   "source": [
    "A1 = qs.sanunits.MixTank('A1', ins=(ww, 'recycle1', 'recycle2'),\n",
    "                                    tau=1, V_wf=0.8, init_with='WasteStream')\n",
    "A2 = qs.sanunits.MixTank('A2', ins=A1-0, tau=1, V_wf=0.8, init_with='WasteStream')"
   ]
  },
  {
   "cell_type": "code",
   "execution_count": null,
   "id": "113a4a56-3ed0-4ea0-b5c3-392931904f2b",
   "metadata": {},
   "outputs": [],
   "source": [
    "oxy1 = qs.WasteStream('oxy1', S_O2=ww.F_mass*0.01)\n",
    "oxy1.imol['S_N2'] = oxy1.imol['S_O2']/0.21*0.79\n",
    "oxy2 = oxy1.copy('oxy2')\n",
    "oxy3 = oxy1.copy('oxy3')"
   ]
  },
  {
   "cell_type": "code",
   "execution_count": null,
   "id": "cfae2b7e-acbd-405a-9e4b-9a5b017f30e7",
   "metadata": {},
   "outputs": [],
   "source": [
    "O1 = qs.sanunits.MixTank('O1', ins=(A2-0, oxy1), tau=1, V_wf=0.8, init_with='WasteStream')\n",
    "O2 = qs.sanunits.MixTank('O2', ins=(O1-0, oxy2), tau=1, V_wf=0.8, init_with='WasteStream')\n",
    "O3 = qs.sanunits.MixTank('O3', ins=(O2-0, oxy3), tau=1, V_wf=0.8, init_with='WasteStream')"
   ]
  },
  {
   "cell_type": "code",
   "execution_count": null,
   "id": "ec75a4d3-91a1-49e5-8dec-9da228520ce3",
   "metadata": {},
   "outputs": [],
   "source": [
    "qs.sanunits.MixTank?"
   ]
  },
  {
   "cell_type": "code",
   "execution_count": null,
   "id": "7155c497-f676-45a9-9dec-b4a23e9bbcc9",
   "metadata": {},
   "outputs": [],
   "source": [
    "S1 = qs.sanunits.Splitter('S1', ins=O3-0, outs=('solubles', 1-A1), # `''` means we use default ID\n",
    "                          split=0.9, init_with='WasteStream')"
   ]
  },
  {
   "cell_type": "code",
   "execution_count": null,
   "id": "b2f4ed7d-3d55-4071-8824-3aa767be6928",
   "metadata": {},
   "outputs": [],
   "source": [
    "split_dct = {i.ID: 0.9 if i.particle_size != 'Particulate' else 0 for i in cmps }"
   ]
  },
  {
   "cell_type": "code",
   "execution_count": null,
   "id": "adb141cd-991a-41c1-983c-45c4932accef",
   "metadata": {},
   "outputs": [],
   "source": [
    "S2 = qs.sanunits.Splitter('S2', ins=S1-0, outs=('liquid_eff', 2-A1),\n",
    "                          split=split_dct, init_with='WasteStream')"
   ]
  },
  {
   "cell_type": "code",
   "execution_count": null,
   "id": "3bc90905-84b4-4456-9037-a1c7cc018905",
   "metadata": {},
   "outputs": [],
   "source": [
    "qs.sanunits.Splitter?"
   ]
  },
  {
   "cell_type": "code",
   "execution_count": null,
   "id": "b1dfec85-ad7c-4d92-b342-b49507fd0e45",
   "metadata": {},
   "outputs": [],
   "source": [
    "import biosteam as bst\n",
    "internal_sys = bst.System('internal_sys',\n",
    "                          path=(A1, A2, O1, O2, O3, S1), # all units within this internal sys\n",
    "                          recycle=S1-1 # the recycle stream\n",
    "                         )"
   ]
  },
  {
   "cell_type": "code",
   "execution_count": null,
   "id": "6f9d8acc-f6d0-4773-bcbc-3d868f6a5fc8",
   "metadata": {},
   "outputs": [],
   "source": [
    "external_sys = bst.System('external_sys',\n",
    "                          path=(internal_sys, S2),\n",
    "                          recycle=S2-1\n",
    "                         )"
   ]
  },
  {
   "cell_type": "code",
   "execution_count": null,
   "id": "6ebd4f61-2c91-4a35-842d-9146463ab59f",
   "metadata": {},
   "outputs": [],
   "source": [
    "external_sys.diagram()"
   ]
  },
  {
   "cell_type": "code",
   "execution_count": null,
   "id": "f21c6ff9-3d20-45d9-86ab-52a43acd97ae",
   "metadata": {},
   "outputs": [],
   "source": [
    "sys = external_sys\n",
    "sys.units"
   ]
  },
  {
   "cell_type": "code",
   "execution_count": null,
   "id": "67712a8a-11c9-4ae3-adc9-81ef3f61fe49",
   "metadata": {},
   "outputs": [],
   "source": [
    "sys.simulate()\n",
    "sys"
   ]
  },
  {
   "cell_type": "code",
   "execution_count": null,
   "id": "a99d3f24-52be-415d-b77c-9e4679a00873",
   "metadata": {},
   "outputs": [],
   "source": [
    "print(f'Purchase cost of the system equipment is {sys.purchase_cost:.0f} USD.')\n",
    "print(f'Installed cost of the system equipment is {sys.installed_equipment_cost:.0f} USD.')"
   ]
  },
  {
   "cell_type": "code",
   "execution_count": null,
   "id": "7bb8f400-568b-455f-8a48-00643344e07e",
   "metadata": {},
   "outputs": [],
   "source": [
    "sys.operating_hours = 365*0.8\n",
    "print(f'This system uses {sys.get_electricity_consumption():.2f} kWh electricity per year.')\n",
    "print(f'This system produces {sys.get_electricity_production():.2f} kWh electricity per year.')"
   ]
  },
  {
   "cell_type": "code",
   "execution_count": null,
   "id": "aa83459a-ba19-4be9-8948-6ab9f343c179",
   "metadata": {},
   "outputs": [],
   "source": [
    "H1 = qs.sanunits.HXutility('H1', ins=sys-0, T=50+273.15)\n",
    "H2 = qs.sanunits.HXutility('H2', ins=H1-0, T=20+273.15)\n",
    "qs.sanunits.HXutility.neglect_pressure_drop = True\n",
    "sys2 = bst.System('sys2', path=(sys, H1, H2))\n",
    "sys2.operating_hours = sys.operating_hours\n",
    "sys2.simulate()\n",
    "sys2.diagram()\n",
    "print(f'Cooling duty of the second system is {sys2.get_cooling_duty():.2f} kJ per year.')\n",
    "print(f'Heating duty of the second system is {sys2.get_heating_duty():.2f} kJ per year.')"
   ]
  },
  {
   "cell_type": "code",
   "execution_count": null,
   "id": "32229483-76d2-4468-bd9e-4d225d78c247",
   "metadata": {},
   "outputs": [],
   "source": [
    "# Let use an example to illustrate this,\n",
    "# here I'm using some modules from `exposan`\n",
    "import biosteam as bst\n",
    "from exposan import bwaise as bw\n",
    "su = qs.sanunits\n",
    "bw.load()\n",
    "\n",
    "# Let's assume that the water costs 0.1 USD/kg,\n",
    "# you can directly adds the cost of chemicals when initializing it\n",
    "flushing_water = qs.WasteStream('flushing_water', price=0.1)\n",
    "cleansing_water = qs.WasteStream('cleansing_water', price=0.1)\n",
    "\n",
    "U1 = su.Excretion('U1', outs=('U1_urine', 'U1_feces'))\n",
    "U2 = su.PitLatrine('U2', ins=(U1-0, U1-1, 'U2_toilet_paper', flushing_water,\n",
    "                              cleansing_water, 'U2_desiccant'),\n",
    "                   outs=('U2_excreta', 'U2_leachate', 'U2_fugative_CH4', 'U2_fugative_N2O'),\n",
    "                   N_user=4, N_toilet=2,\n",
    "                   decay_k_COD=3, decay_k_N=3, max_CH4_emission=0.25)\n",
    "sys1 = qs.System('sys1', path=(U1, U2))\n",
    "sys1.simulate()\n",
    "sys1.diagram()"
   ]
  },
  {
   "cell_type": "code",
   "execution_count": null,
   "id": "00be0890-1571-4014-a908-d684a5006a5d",
   "metadata": {},
   "outputs": [],
   "source": [
    "print(U1.results())\n",
    "print(U2.results())"
   ]
  },
  {
   "cell_type": "code",
   "execution_count": null,
   "id": "11dd9022-dd16-4cab-b1dc-ee640c87e9ec",
   "metadata": {},
   "outputs": [],
   "source": [
    "# With some assumptions, we can calculate costs associated with this system\n",
    "tea1 = qs.TEA(system=sys1, discount_rate=0.05, lifetime=10)\n",
    "tea1.show()"
   ]
  },
  {
   "cell_type": "code",
   "execution_count": null,
   "id": "cae834e4-d213-4a0d-9cd7-a7d0c09097a4",
   "metadata": {},
   "outputs": [],
   "source": [
    "# These values are stored as attributes so you can easily access,\n",
    "# note that the `Sales` part does not consider income tax\n",
    "c = qs.currency\n",
    "for attr in ('NPV', 'EAC', 'CAPEX', 'AOC', 'sales', 'net_earnings'):\n",
    "    uom = c if attr in ('NPV', 'CAPEX') else (c+('/yr'))\n",
    "    print(f'{attr} is {getattr(tea1, attr):,.0f} {uom}')"
   ]
  },
  {
   "cell_type": "code",
   "execution_count": null,
   "id": "1ce96d06-f06d-4c7a-aaf9-60e3c721f73e",
   "metadata": {},
   "outputs": [],
   "source": [
    "# Assume we are mostly interested in global warming potential and fossil energy consumption\n",
    "GWP = qs.ImpactIndicator(ID='GlobalWarming', method='TRACI', category='environmental impact', unit='kg CO2-eq',\n",
    "                         description='Effect of climate change measured as global warming potential.')\n",
    "FEC = qs.ImpactIndicator(ID='FossilEnergyConsumption', alias='FEC', unit='MJ')\n",
    "GWP.alias = 'GWP'\n",
    "GWP.show()"
   ]
  },
  {
   "cell_type": "code",
   "execution_count": null,
   "id": "368235c7-7739-435a-bdc1-77e831d4cc4f",
   "metadata": {},
   "outputs": [],
   "source": [
    "FEC.show()"
   ]
  },
  {
   "cell_type": "code",
   "execution_count": null,
   "id": "73c9e80b-1721-456e-903a-bdb1ee34f104",
   "metadata": {},
   "outputs": [],
   "source": [
    "# You can also retrieve an `ImpactIndicator` through its ID or alias\n",
    "qs.ImpactIndicator.get_indicator('FEC').show()"
   ]
  },
  {
   "cell_type": "code",
   "execution_count": null,
   "id": "acded3d2-c7c8-4303-9650-49155b64520e",
   "metadata": {},
   "outputs": [],
   "source": [
    "# Or get all defined impact indicators\n",
    "qs.ImpactIndicator.get_all_indicators()"
   ]
  },
  {
   "cell_type": "code",
   "execution_count": null,
   "id": "d83eeb5d-f218-4a30-938b-2ace181a9fba",
   "metadata": {},
   "outputs": [],
   "source": [
    "qs.ImpactItem?"
   ]
  },
  {
   "cell_type": "code",
   "execution_count": null,
   "id": "5d3c0ef0-0397-474f-aa8d-29311d85e4f7",
   "metadata": {},
   "outputs": [],
   "source": [
    "cmps = qs.Components.load_default()\n",
    "qs.set_thermo(cmps)\n",
    "ww = qs.WasteStream.codbased_inf_model(flow_tot=1000)\n",
    "ww_item = qs.StreamImpactItem(linked_stream=ww, GWP=1, FEC=(100, 'kJ'))\n",
    "ww_item.show()"
   ]
  },
  {
   "cell_type": "code",
   "execution_count": null,
   "id": "f37b68b3-6b61-4340-b9ec-fb78090fe77a",
   "metadata": {},
   "outputs": [],
   "source": [
    "ww.price = 0.2\n",
    "ww_item.show()"
   ]
  },
  {
   "cell_type": "code",
   "execution_count": null,
   "id": "04bf7f16-e170-447e-98d0-3f5ce65f7390",
   "metadata": {},
   "outputs": [],
   "source": [
    "ww_item.price = 0.1"
   ]
  },
  {
   "cell_type": "code",
   "execution_count": null,
   "id": "89fe441d-9ed6-4b5f-b907-b6f2364fa82a",
   "metadata": {},
   "outputs": [],
   "source": [
    "ww2 = qs.WasteStream.bodbased_inf_model(flow_tot=200)\n",
    "ww_item2 = ww_item.copy(stream=ww2, set_as_source=True)\n",
    "ww_item2.show()"
   ]
  },
  {
   "cell_type": "code",
   "execution_count": null,
   "id": "d2e6531d-3764-4ac4-8797-91a1bf4be3cd",
   "metadata": {},
   "outputs": [],
   "source": [
    "ww_item2.CFs['FossilEnergyConsumption'] = 1\n",
    "print(ww_item.CFs['FossilEnergyConsumption'])\n",
    "print(ww_item2.CFs['FossilEnergyConsumption'])"
   ]
  },
  {
   "cell_type": "code",
   "execution_count": null,
   "id": "8c20e256-7f76-490c-831f-2ceac36ae9bb",
   "metadata": {},
   "outputs": [],
   "source": [
    "from exposan import bwaise as bw\n",
    "bw.load()\n",
    "bw.A2.construction"
   ]
  },
  {
   "cell_type": "code",
   "execution_count": null,
   "id": "0c906087-8fc1-446a-aef1-b530ef710e6f",
   "metadata": {},
   "outputs": [],
   "source": [
    "Cement = bw.A2.construction[0]\n",
    "Cement.show()"
   ]
  },
  {
   "cell_type": "code",
   "execution_count": null,
   "id": "20943353-e553-4e74-9c02-d6426d532d21",
   "metadata": {},
   "outputs": [],
   "source": [
    "Cement.item.show()"
   ]
  },
  {
   "cell_type": "code",
   "execution_count": null,
   "id": "29df4806-9591-4601-8ba4-599c67eb0609",
   "metadata": {},
   "outputs": [],
   "source": [
    "car_item = qs.ImpactItem('car_item', functional_unit='kg*km', GWP=10)\n",
    "car_item.show()"
   ]
  },
  {
   "cell_type": "code",
   "execution_count": null,
   "id": "9b268eee-c369-417a-894f-d1703e25716f",
   "metadata": {},
   "outputs": [],
   "source": [
    "car_trans = qs.Transportation(item='car_item', load_type='mass', load=5000, load_unit='kg',\n",
    "                             distance=5e6, distance_unit='cm', interval=20, interval_unit='hr')\n",
    "car_trans.show()"
   ]
  },
  {
   "cell_type": "code",
   "execution_count": null,
   "id": "9954e05b-a7fa-4e78-a63f-bd7b5ec2f31f",
   "metadata": {},
   "outputs": [],
   "source": [
    "sys = bw.sysA\n",
    "# You can double-click the diagram to enlarge it\n",
    "sys.diagram()"
   ]
  },
  {
   "cell_type": "code",
   "execution_count": null,
   "id": "5cf014c8-d800-4156-a678-84a1e7cd5689",
   "metadata": {},
   "outputs": [],
   "source": [
    "lca = qs.LCA(system=sys, lifetime=8, lifetime_unit='yr', electricity=1e6)\n",
    "lca.show()"
   ]
  },
  {
   "cell_type": "code",
   "execution_count": 1,
   "id": "74650dbb-547e-4b69-8180-84630fbbe042",
   "metadata": {},
   "outputs": [],
   "source": [
    "import qsdsan as qs"
   ]
  },
  {
   "cell_type": "code",
   "execution_count": 2,
   "id": "7a888e0a-b652-4582-a40e-dd8bd890055d",
   "metadata": {},
   "outputs": [],
   "source": [
    "# Assume we are mostly interested in global warming potential and fossil energy consumption\n",
    "GWP = qs.ImpactIndicator(ID='GlobalWarming', method='TRACI', category='environmental impact', unit='kg CO2-eq',\n",
    "                         description='Effect of climate change measured as global warming potential.')\n",
    "FEC = qs.ImpactIndicator(ID='FossilEnergyConsumption', alias='FEC', unit='MJ')"
   ]
  },
  {
   "cell_type": "code",
   "execution_count": 3,
   "id": "be1de968-437a-4dc3-a200-31733d6b2d96",
   "metadata": {},
   "outputs": [
    {
     "name": "stdout",
     "output_type": "stream",
     "text": [
      "ImpactIndicator: GlobalWarming as kg CO2-eq\n",
      " Alias      : GWP\n",
      " Method     : TRACI\n",
      " Category   : environmental impact\n",
      " Description: Effect of climate change ...\n",
      "ImpactIndicator: FossilEnergyConsumption as MJ\n",
      " Alias      : FEC\n",
      " Method     : None\n",
      " Category   : None\n",
      " Description: None\n"
     ]
    }
   ],
   "source": [
    "GWP.alias = 'GWP'\n",
    "GWP.show()\n",
    "FEC.show()"
   ]
  },
  {
   "cell_type": "code",
   "execution_count": 4,
   "id": "9ef9672b-cb88-488f-b887-0938942907d4",
   "metadata": {},
   "outputs": [
    {
     "name": "stdout",
     "output_type": "stream",
     "text": [
      "ImpactItem      : electricity [per kWh]\n",
      "Price           : None USD\n",
      "ImpactIndicators:\n",
      " None\n"
     ]
    }
   ],
   "source": [
    "electricity = qs.ImpactItem('electricity', functional_unit='kWh')\n",
    "electricity.show()"
   ]
  },
  {
   "cell_type": "code",
   "execution_count": 5,
   "id": "38854666-740e-4306-98c0-7ef770d509ba",
   "metadata": {},
   "outputs": [
    {
     "name": "stdout",
     "output_type": "stream",
     "text": [
      "ImpactItem      : electricity [per kWh]\n",
      "Price           : None USD\n",
      "ImpactIndicators:\n",
      "                           Characterization factors\n",
      "GlobalWarming (kg CO2-eq)                      0.25\n"
     ]
    }
   ],
   "source": [
    "electricity.add_indicator(GWP, 0.25)\n",
    "electricity.show()"
   ]
  },
  {
   "cell_type": "code",
   "execution_count": 6,
   "id": "3f8b4138-21c1-410b-8562-e9a99ae4e10a",
   "metadata": {},
   "outputs": [
    {
     "name": "stdout",
     "output_type": "stream",
     "text": [
      "ImpactItem      : electricity [per kWh]\n",
      "Price           : None USD\n",
      "ImpactIndicators:\n",
      "                              Characterization factors\n",
      "GlobalWarming (kg CO2-eq)                         0.25\n",
      "FossilEnergyConsumption (MJ)                       4.5\n"
     ]
    }
   ],
   "source": [
    "# If you provide unit when adding the CF value, qsdsan will do the unit conversion\n",
    "electricity.add_indicator(FEC, 4500, 'kJ')\n",
    "electricity.show()"
   ]
  },
  {
   "cell_type": "code",
   "execution_count": 7,
   "id": "e5221f7c-7ecf-4806-aca8-1c3b95285ef2",
   "metadata": {},
   "outputs": [
    {
     "name": "stdout",
     "output_type": "stream",
     "text": [
      "ImpactItem      : electricity [per kWh]\n",
      "Price           : None USD\n",
      "ImpactIndicators:\n",
      "                              Characterization factors\n",
      "GlobalWarming (kg CO2-eq)                         0.25\n",
      "FossilEnergyConsumption (MJ)                       4.5\n"
     ]
    },
    {
     "data": {
      "text/plain": [
       "{'electricity': <ImpactItem: electricity>}"
      ]
     },
     "execution_count": 7,
     "metadata": {},
     "output_type": "execute_result"
    }
   ],
   "source": [
    "qs.ImpactItem.get_item('electricity').show()\n",
    "qs.ImpactItem.get_all_items()"
   ]
  },
  {
   "cell_type": "code",
   "execution_count": 8,
   "id": "91c63e28-0af2-499c-a245-2edf7d7ba850",
   "metadata": {},
   "outputs": [],
   "source": [
    "cmps = qs.Components.load_default()\n",
    "qs.set_thermo(cmps)\n",
    "ww = qs.WasteStream.codbased_inf_model(flow_tot=1000)"
   ]
  },
  {
   "cell_type": "code",
   "execution_count": 9,
   "id": "af62a468-5bec-46ac-b34d-27e7618550fc",
   "metadata": {},
   "outputs": [
    {
     "name": "stdout",
     "output_type": "stream",
     "text": [
      "StreamImpactItem: ws1_item [per kg]\n",
      "Linked to       : ws1\n",
      "Price           : 0.2 USD\n",
      "ImpactIndicators:\n",
      "                              Characterization factors\n",
      "GlobalWarming (kg CO2-eq)                            1\n",
      "FossilEnergyConsumption (MJ)                       0.1\n"
     ]
    }
   ],
   "source": [
    "ww_item = qs.StreamImpactItem(linked_stream=ww, GWP=1, FEC=(100, 'kJ'))\n",
    "ww.price = 0.2\n",
    "ww_item.show()"
   ]
  },
  {
   "cell_type": "code",
   "execution_count": 10,
   "id": "fbd72b30-5091-4d38-969f-0670a036d113",
   "metadata": {},
   "outputs": [
    {
     "name": "stdout",
     "output_type": "stream",
     "text": [
      "StreamImpactItem: ws2_item [per kg]\n",
      "Linked to       : ws2\n",
      "Source          : ws1_item\n",
      "Price           : None USD\n",
      "ImpactIndicators:\n",
      "                              Characterization factors\n",
      "GlobalWarming (kg CO2-eq)                            1\n",
      "FossilEnergyConsumption (MJ)                       0.1\n"
     ]
    }
   ],
   "source": [
    "ww2 = qs.WasteStream.bodbased_inf_model(flow_tot=200)\n",
    "ww_item2 = ww_item.copy(stream=ww2, set_as_source=True)\n",
    "ww_item2.show()"
   ]
  },
  {
   "cell_type": "code",
   "execution_count": 11,
   "id": "66fe23fd-a3e7-43a7-ac3c-5b49570109f8",
   "metadata": {},
   "outputs": [
    {
     "name": "stdout",
     "output_type": "stream",
     "text": [
      "0.1\n",
      "0.1\n"
     ]
    }
   ],
   "source": [
    "ww_item2.CFs['FossilEnergyConsumption'] = 1\n",
    "print(ww_item.CFs['FossilEnergyConsumption'])\n",
    "print(ww_item2.CFs['FossilEnergyConsumption'])"
   ]
  },
  {
   "cell_type": "code",
   "execution_count": 12,
   "id": "e0eada73-4405-4b9a-a045-4280ae5af7c1",
   "metadata": {},
   "outputs": [
    {
     "name": "stdout",
     "output_type": "stream",
     "text": [
      "ImpactItem      : copied_electricity [per kWh]\n",
      "Source          : electricity\n",
      "Price           : None USD\n",
      "ImpactIndicators:\n",
      "                              Characterization factors\n",
      "GlobalWarming (kg CO2-eq)                         0.25\n",
      "FossilEnergyConsumption (MJ)                       4.5\n"
     ]
    }
   ],
   "source": [
    "e2 = electricity.copy(new_ID='copied_electricity', set_as_source=True)\n",
    "e2.show()"
   ]
  },
  {
   "cell_type": "code",
   "execution_count": 13,
   "id": "40963be0-55d8-4c8e-9c29-6163f1f0341c",
   "metadata": {},
   "outputs": [
    {
     "name": "stderr",
     "output_type": "stream",
     "text": [
      "C:\\Users\\Aravi\\OneDrive\\Desktop\\workspace\\QSDsan\\qsdsan\\_impact_indicator.py:27: UserWarning: The impact indicator \"GlobalWarming\" already exists and has a different description (Effect of climate change measured as global warming potential.) than the provided one (Potential global warming based on chemical's radiative forcing and lifetime).\n",
      "  warn (f'The impact indicator \"{ID}\" already exists '\n"
     ]
    }
   ],
   "source": [
    "from exposan import bwaise as bw\n",
    "bw.load()"
   ]
  },
  {
   "cell_type": "code",
   "execution_count": 14,
   "id": "bbad0041-122a-4a66-b0c1-5b22b4cce44d",
   "metadata": {},
   "outputs": [
    {
     "data": {
      "text/plain": [
       "[<Construction: bwA_A2_cement>,\n",
       " <Construction: bwA_A2_sand>,\n",
       " <Construction: bwA_A2_gravel>,\n",
       " <Construction: bwA_A2_brick>,\n",
       " <Construction: bwA_A2_liner>,\n",
       " <Construction: bwA_A2_steel>,\n",
       " <Construction: bwA_A2_wood>,\n",
       " <Construction: bwA_A2_excavation>]"
      ]
     },
     "execution_count": 14,
     "metadata": {},
     "output_type": "execute_result"
    }
   ],
   "source": [
    "bw.A2.construction"
   ]
  },
  {
   "cell_type": "code",
   "execution_count": 15,
   "id": "a597a371-db8d-47e0-9d49-6f1df1caab65",
   "metadata": {},
   "outputs": [
    {
     "data": {
      "text/plain": [
       "19979181.25"
      ]
     },
     "execution_count": 15,
     "metadata": {},
     "output_type": "execute_result"
    }
   ],
   "source": [
    "cement = bw.A2.construction[0]\n",
    "cement.quantity"
   ]
  },
  {
   "cell_type": "code",
   "execution_count": 16,
   "id": "5cd962f4-1c36-4dc7-b91b-2559cd3f4551",
   "metadata": {},
   "outputs": [
    {
     "data": {
      "text/plain": [
       "True"
      ]
     },
     "execution_count": 16,
     "metadata": {},
     "output_type": "execute_result"
    }
   ],
   "source": [
    "cement.impacts['GlobalWarming'] == cement.item.CFs['GlobalWarming']*cement.quantity"
   ]
  },
  {
   "cell_type": "code",
   "execution_count": 17,
   "id": "2166421f-c6a8-4c97-aadd-7c15fa2d3020",
   "metadata": {},
   "outputs": [
    {
     "name": "stdout",
     "output_type": "stream",
     "text": [
      "ImpactItem      : car_item [per kg*km]\n",
      "Price           : None USD\n",
      "ImpactIndicators:\n",
      "                           Characterization factors\n",
      "GlobalWarming (kg CO2-eq)                        10\n"
     ]
    }
   ],
   "source": [
    "car_item = qs.ImpactItem('car_item', functional_unit='kg*km', GWP=10)\n",
    "car_item.show()"
   ]
  },
  {
   "cell_type": "code",
   "execution_count": 18,
   "id": "3e221b4f-f687-410f-89d4-ff47d93ac753",
   "metadata": {},
   "outputs": [
    {
     "name": "stdout",
     "output_type": "stream",
     "text": [
      "Transportation: Trans1\n",
      "Impact item   : car_item [per trip]\n",
      "Load          : 5000 kg\n",
      "Distance      : 50.0 km\n",
      "Interval      : 20 hr\n",
      "Total cost    : None USD\n",
      "Total impacts :\n",
      "                           Impacts\n",
      "GlobalWarming (kg CO2-eq)  2.5e+06\n"
     ]
    }
   ],
   "source": [
    "car_trans = qs.Transportation(item='car_item', load_type='mass', load=5000, load_unit='kg',\n",
    "                             distance=5e6, distance_unit='cm', interval=20, interval_unit='hr')\n",
    "car_trans.show()"
   ]
  },
  {
   "cell_type": "code",
   "execution_count": 19,
   "id": "b0f57e9b-0fc5-4075-85e6-4c6841e61130",
   "metadata": {},
   "outputs": [
    {
     "name": "stdout",
     "output_type": "stream",
     "text": [
      "Transportation: bwA_A3_total_truck\n",
      "Impact item   : Trucking [per trip]\n",
      "Load          : 9.86E+07 kg\n",
      "Distance      : 5 km\n",
      "Interval      : 7008 hr\n",
      "Total cost    : None USD\n",
      "Total impacts :\n",
      "                           Impacts\n",
      "GlobalWarming (kg CO2-eq) 9.57e+04\n"
     ]
    }
   ],
   "source": [
    "bw.A3.transportation[0].show()"
   ]
  },
  {
   "cell_type": "code",
   "execution_count": 20,
   "id": "9b6e33bd-a418-4bbf-8feb-9f3d577be8c5",
   "metadata": {},
   "outputs": [
    {
     "name": "stdout",
     "output_type": "stream",
     "text": [
      "LCA: sysA (lifetime 8 yr)\n",
      "Impacts:\n",
      "                              Construction  Transportation   Stream  Others    Total\n",
      "GlobalWarming (kg CO2-eq)         3.13e+07        9.57e+05 1.82e+08 2.5e+05 2.14e+08\n",
      "FossilEnergyConsumption (MJ)             0               0        0 4.5e+06  4.5e+06\n"
     ]
    }
   ],
   "source": [
    "sys = bw.sysA\n",
    "lca = qs.LCA(system=sys, lifetime=8, lifetime_unit='yr', electricity=1e6)\n",
    "lca.show()"
   ]
  },
  {
   "cell_type": "code",
   "execution_count": 21,
   "id": "7799bd25-f9c3-4db0-9089-e5533b74760a",
   "metadata": {},
   "outputs": [
    {
     "name": "stdout",
     "output_type": "stream",
     "text": [
      "LCA: sysA (lifetime 8 yr)\n",
      "Impacts:\n",
      "                              Construction  Transportation   Stream   Others    Total\n",
      "GlobalWarming (kg CO2-eq)         3.13e+07        9.57e+05 1.82e+08      275 2.14e+08\n",
      "FossilEnergyConsumption (MJ)             0               0        0 4.95e+03 4.95e+03\n"
     ]
    }
   ],
   "source": [
    "a = 100\n",
    "b = 1000\n",
    "lca = qs.LCA(system=sys, lifetime=8, lifetime_unit='yr', electricity=lambda: a+b)\n",
    "lca.show()"
   ]
  },
  {
   "cell_type": "code",
   "execution_count": 22,
   "id": "49f8ab59-25ea-4e09-bed5-9532253e76da",
   "metadata": {},
   "outputs": [
    {
     "name": "stdout",
     "output_type": "stream",
     "text": [
      "Construction     SanUnit\n",
      "Brick [kg]       A2        1.81e+06\n",
      "                 Total     1.81e+06\n",
      "Cement [kg]      A2        2.16e+07\n",
      "                 Total     2.16e+07\n",
      "Concrete [m3]    A5         1.3e+05\n",
      "                 A8        1.82e+06\n",
      "                 Total     1.95e+06\n",
      "Excavation [m3]  A2        5.53e+04\n",
      "                 A6        7.38e+03\n",
      "                 A7        1.22e+04\n",
      "                 Total     7.49e+04\n",
      "Gravel [kg]      A2        5.48e+05\n",
      "                 Total     5.48e+05\n",
      "Plastic [kg]     A2        5.67e+05\n",
      "                 A6        8.94e+03\n",
      "                 A7        2.26e+04\n",
      "                 Total     5.98e+05\n",
      "Sand [kg]        A2        1.09e+06\n",
      "                 Total     1.09e+06\n",
      "Steel [kg]       A2        2.44e+06\n",
      "                 A5        9.77e+03\n",
      "                 A8        1.77e+05\n",
      "                 Total     2.63e+06\n",
      "Wood [m3]        A2        1.07e+06\n",
      "                 Total     1.07e+06\n",
      "Sum              All       3.13e+07\n",
      "Name: GlobalWarming [kg CO2-eq], dtype: object\n"
     ]
    },
    {
     "name": "stderr",
     "output_type": "stream",
     "text": [
      "C:\\Users\\Aravi\\OneDrive\\Desktop\\workspace\\QSDsan\\qsdsan\\_lca.py:571: FutureWarning: ChainedAssignmentError: behaviour will change in pandas 3.0!\n",
      "You are setting values through chained assignment. Currently this works in certain cases, but when using Copy-on-Write (which will become the default behaviour in pandas 3.0) this will never work to update the original DataFrame or Series, because the intermediate object on which we are setting values will behave as a copy.\n",
      "A typical example is when you are setting values in a column of a DataFrame, like:\n",
      "\n",
      "df[\"col\"][row_indexer] = value\n",
      "\n",
      "Use `df.loc[row_indexer, \"col\"] = values` instead, to perform the assignment in a single step and ensure this keeps updating the original `df`.\n",
      "\n",
      "See the caveats in the documentation: https://pandas.pydata.org/pandas-docs/stable/user_guide/indexing.html#returning-a-view-versus-a-copy\n",
      "\n",
      "  cat_table[f'{i.ID} [{i.unit}]'][num] = tot[i.ID]\n",
      "C:\\Users\\Aravi\\OneDrive\\Desktop\\workspace\\QSDsan\\qsdsan\\_lca.py:572: FutureWarning: ChainedAssignmentError: behaviour will change in pandas 3.0!\n",
      "You are setting values through chained assignment. Currently this works in certain cases, but when using Copy-on-Write (which will become the default behaviour in pandas 3.0) this will never work to update the original DataFrame or Series, because the intermediate object on which we are setting values will behave as a copy.\n",
      "A typical example is when you are setting values in a column of a DataFrame, like:\n",
      "\n",
      "df[\"col\"][row_indexer] = value\n",
      "\n",
      "Use `df.loc[row_indexer, \"col\"] = values` instead, to perform the assignment in a single step and ensure this keeps updating the original `df`.\n",
      "\n",
      "See the caveats in the documentation: https://pandas.pydata.org/pandas-docs/stable/user_guide/indexing.html#returning-a-view-versus-a-copy\n",
      "\n",
      "  cat_table[f'Category {i.ID} Ratio'][num] = 1\n",
      "C:\\Users\\Aravi\\OneDrive\\Desktop\\workspace\\QSDsan\\qsdsan\\_lca.py:571: FutureWarning: ChainedAssignmentError: behaviour will change in pandas 3.0!\n",
      "You are setting values through chained assignment. Currently this works in certain cases, but when using Copy-on-Write (which will become the default behaviour in pandas 3.0) this will never work to update the original DataFrame or Series, because the intermediate object on which we are setting values will behave as a copy.\n",
      "A typical example is when you are setting values in a column of a DataFrame, like:\n",
      "\n",
      "df[\"col\"][row_indexer] = value\n",
      "\n",
      "Use `df.loc[row_indexer, \"col\"] = values` instead, to perform the assignment in a single step and ensure this keeps updating the original `df`.\n",
      "\n",
      "See the caveats in the documentation: https://pandas.pydata.org/pandas-docs/stable/user_guide/indexing.html#returning-a-view-versus-a-copy\n",
      "\n",
      "  cat_table[f'{i.ID} [{i.unit}]'][num] = tot[i.ID]\n",
      "C:\\Users\\Aravi\\OneDrive\\Desktop\\workspace\\QSDsan\\qsdsan\\_lca.py:572: FutureWarning: ChainedAssignmentError: behaviour will change in pandas 3.0!\n",
      "You are setting values through chained assignment. Currently this works in certain cases, but when using Copy-on-Write (which will become the default behaviour in pandas 3.0) this will never work to update the original DataFrame or Series, because the intermediate object on which we are setting values will behave as a copy.\n",
      "A typical example is when you are setting values in a column of a DataFrame, like:\n",
      "\n",
      "df[\"col\"][row_indexer] = value\n",
      "\n",
      "Use `df.loc[row_indexer, \"col\"] = values` instead, to perform the assignment in a single step and ensure this keeps updating the original `df`.\n",
      "\n",
      "See the caveats in the documentation: https://pandas.pydata.org/pandas-docs/stable/user_guide/indexing.html#returning-a-view-versus-a-copy\n",
      "\n",
      "  cat_table[f'Category {i.ID} Ratio'][num] = 1\n"
     ]
    }
   ],
   "source": [
    "table = lca.get_impact_table('Construction')\n",
    "print(table['GlobalWarming [kg CO2-eq]'])"
   ]
  },
  {
   "cell_type": "code",
   "execution_count": 23,
   "id": "b053fe79-4114-4b3e-9aa7-5a166c19d37a",
   "metadata": {},
   "outputs": [],
   "source": [
    "from qsdsan import PowerUtility, Model # for prior v0.3.10, import from `biosteam`\n",
    "cmps = qs.Components.load_default()\n",
    "qs.set_thermo(cmps)\n",
    "ww1 = qs.WasteStream.codstates_inf_model('ww1', 1000)\n",
    "ww2 = qs.WasteStream.bodbased_inf_model('ww2', 100)"
   ]
  },
  {
   "cell_type": "code",
   "execution_count": 24,
   "id": "d0221e73-02c4-4742-9c49-143d6a2ae7f9",
   "metadata": {},
   "outputs": [
    {
     "data": {
      "image/svg+xml": [
       "<svg xmlns=\"http://www.w3.org/2000/svg\" xmlns:xlink=\"http://www.w3.org/1999/xlink\" width=\"427pt\" height=\"181pt\" viewBox=\"0.00 0.00 427.15 181.07\">\n",
       "<g id=\"graph0\" class=\"graph\" transform=\"scale(1 1) rotate(0) translate(4 177.07)\">\n",
       "<!-- 127086638960&#45;&gt;127086638792 -->\n",
       "<g id=\"edge2\" class=\"edge\">\n",
       "<title>127086638960:c-&gt;127086638792:c</title>\n",
       "<path fill=\"none\" stroke=\"#90918e\" d=\"M180.77,-48.87C196.01,-46.54 213.56,-44.25 229.6,-43.11 249.78,-41.67 256.91,-41.92 279.31,-43.05\"/>\n",
       "<polygon fill=\"#90918e\" stroke=\"#90918e\" points=\"279.11,-46.55 289.27,-43.56 279.46,-39.56 279.11,-46.55\"/>\n",
       "<g id=\"a_edge2-label\"><a xlink:title=\"Temperature: 298.15 K\n",
       "Pressure: 101325 Pa\n",
       "Liquid flow: 11.2 kmol/hr\">\n",
       "<text text-anchor=\"middle\" x=\"255.85\" y=\"-45.56\" font-family=\"Arial\" font-size=\"14.00\" fill=\"#90918e\"> to HX</text>\n",
       "</a>\n",
       "</g>\n",
       "</g>\n",
       "<!-- 127086638960&#45;&gt;127086638738 -->\n",
       "<g id=\"edge6\" class=\"edge\">\n",
       "<title>127086638960:c-&gt;127086638738:c</title>\n",
       "<path fill=\"none\" stroke=\"#90918e\" stroke-width=\"1.6\" d=\"M180.97,-76.5C209.95,-91.31 248.96,-111.24 278.7,-126.43\"/>\n",
       "<polygon fill=\"#90918e\" stroke=\"#90918e\" stroke-width=\"1.6\" points=\"276.96,-129.47 287.45,-130.9 280.14,-123.24 276.96,-129.47\"/>\n",
       "<g id=\"a_edge6-label\"><a xlink:title=\"Temperature: 298.15 K\n",
       "Pressure: 101325 Pa\n",
       "Liquid flow: 44.6 kmol/hr\">\n",
       "<text text-anchor=\"middle\" x=\"255.85\" y=\"-128.84\" font-family=\"Arial\" font-size=\"14.00\" fill=\"#90918e\"> to mixer</text>\n",
       "</a>\n",
       "</g>\n",
       "</g>\n",
       "<!-- 127086638792&#45;&gt;127086534968 -->\n",
       "<g id=\"edge3\" class=\"edge\">\n",
       "<title>127086638792:c-&gt;127086534968:w</title>\n",
       "<path fill=\"none\" stroke=\"#90918e\" d=\"M356.91,-46.86C372.8,-46.86 392.24,-46.86 409.67,-46.86\"/>\n",
       "<g id=\"a_edge3-label\"><a xlink:title=\"Temperature: 323.15 K\n",
       "Pressure: 101325 Pa\n",
       "Liquid flow: 11.2 kmol/hr\">\n",
       "<text text-anchor=\"middle\" x=\"382.72\" y=\"-49.31\" font-family=\"Arial\" font-size=\"14.00\" fill=\"#90918e\"> s5</text>\n",
       "</a>\n",
       "</g>\n",
       "</g>\n",
       "<!-- 127086638738&#45;&gt;127066435671 -->\n",
       "<g id=\"edge4\" class=\"edge\">\n",
       "<title>127086638738:c-&gt;127066435671:w</title>\n",
       "<path fill=\"none\" stroke=\"#90918e\" stroke-width=\"2.2\" d=\"M357.32,-148.86C373.13,-148.86 392.39,-148.86 409.67,-148.86\"/>\n",
       "<g id=\"a_edge4-label\"><a xlink:title=\"Temperature: 298.15 K\n",
       "Pressure: 101325 Pa\n",
       "Liquid flow: 50.2 kmol/hr\">\n",
       "<text text-anchor=\"middle\" x=\"382.72\" y=\"-151.31\" font-family=\"Arial\" font-size=\"14.00\" fill=\"#90918e\"> ws10</text>\n",
       "</a>\n",
       "</g>\n",
       "</g>\n",
       "<!-- 127066435531&#45;&gt;127086638960 -->\n",
       "<g id=\"edge1\" class=\"edge\">\n",
       "<title>127066435531:e-&gt;127086638960:w</title>\n",
       "<path fill=\"none\" stroke=\"#90918e\" stroke-width=\"2.2\" d=\"M10.8,-55.86C31.58,-55.86 36.77,-55.86 57.55,-55.86\"/>\n",
       "<g id=\"a_edge1-label\"><a xlink:title=\"Temperature: 298.15 K\n",
       "Pressure: 101325 Pa\n",
       "Liquid flow: 55.8 kmol/hr\">\n",
       "<text text-anchor=\"middle\" x=\"34.17\" y=\"-58.31\" font-family=\"Arial\" font-size=\"14.00\" fill=\"#90918e\"> ww1</text>\n",
       "</a>\n",
       "</g>\n",
       "</g>\n",
       "<!-- 127066435566&#45;&gt;127086638738 -->\n",
       "<g id=\"edge5\" class=\"edge\">\n",
       "<title>127066435566:e-&gt;127086638738:c</title>\n",
       "<path fill=\"none\" stroke=\"#90918e\" d=\"M146.48,-160.86C196.59,-160.86 254.53,-155.97 289.86,-152.43\"/>\n",
       "<g id=\"a_edge5-label\"><a xlink:title=\"Temperature: 298.15 K\n",
       "Pressure: 101325 Pa\n",
       "Liquid flow: 5.58 kmol/hr\">\n",
       "<text text-anchor=\"middle\" x=\"255.85\" y=\"-159.77\" font-family=\"Arial\" font-size=\"14.00\" fill=\"#90918e\"> ww2</text>\n",
       "</a>\n",
       "</g>\n",
       "</g>\n",
       "<!-- 127086638960 -->\n",
       "<g id=\"node1\" class=\"node\">\n",
       "<title>127086638960</title>\n",
       "<g id=\"a_node1\"><a xlink:title=\"No capital costs or utilities\">\n",
       "<polygon fill=\"#555f69\" stroke=\"#90918e\" points=\"57.55,-55.86 180.59,0 180.59,-111.72 57.55,-55.86\"/>\n",
       "<text text-anchor=\"middle\" x=\"139.57\" y=\"-58.31\" font-family=\"Arial\" font-size=\"14.00\" fill=\"white\">S1</text>\n",
       "<text text-anchor=\"middle\" x=\"139.57\" y=\"-42.56\" font-family=\"Arial\" font-size=\"14.00\" fill=\"white\">Splitter</text>\n",
       "</a>\n",
       "</g>\n",
       "</g>\n",
       "<!-- 127086638792 -->\n",
       "<g id=\"node2\" class=\"node\">\n",
       "<title>127086638792</title>\n",
       "<g id=\"a_node2\"><a xlink:title=\"Heating duty: 22.1 MJ/hr\n",
       "Utility cost: 0.136 USD/hr\n",
       "Purchase cost: 1,694 USD\n",
       "Installed equipment cost: 2,998 USD\">\n",
       "<ellipse fill=\"#ed5a6a\" stroke=\"none\" cx=\"323.6\" cy=\"-46.86\" rx=\"32.88\" ry=\"32.88\"/>\n",
       "<text text-anchor=\"middle\" x=\"323.6\" y=\"-49.31\" font-family=\"Arial\" font-size=\"14.00\" fill=\"white\">H1</text>\n",
       "<text text-anchor=\"middle\" x=\"323.6\" y=\"-33.56\" font-family=\"Arial\" font-size=\"14.00\" fill=\"white\">Heating</text>\n",
       "</a>\n",
       "</g>\n",
       "</g>\n",
       "<!-- 127086638738 -->\n",
       "<g id=\"node3\" class=\"node\">\n",
       "<title>127086638738</title>\n",
       "<g id=\"a_node3\"><a xlink:title=\"Electricity consumption: 0.222 kW\n",
       "Utility cost: 0.0377 USD/hr\n",
       "Purchase cost: 19,972 USD\n",
       "Installed equipment cost: 32,955 USD\">\n",
       "<polygon fill=\"#555f69\" stroke=\"#90918e\" points=\"357.1,-170.46 290.1,-170.46 290.1,-127.26 357.1,-127.26 357.1,-170.46\"/>\n",
       "<text text-anchor=\"middle\" x=\"323.6\" y=\"-151.31\" font-family=\"Arial\" font-size=\"14.00\" fill=\"white\">M1</text>\n",
       "<text text-anchor=\"middle\" x=\"323.6\" y=\"-135.56\" font-family=\"Arial\" font-size=\"14.00\" fill=\"white\">Mix tank</text>\n",
       "</a>\n",
       "</g>\n",
       "</g>\n",
       "<!-- 127066435531 -->\n",
       "<g id=\"node4\" class=\"node\">\n",
       "<title>127066435531</title>\n",
       "<polygon fill=\"#f98f60\" stroke=\"#90918e\" points=\"5.4,-61.26 0,-55.86 5.4,-50.46 10.8,-55.86 5.4,-61.26\"/>\n",
       "</g>\n",
       "<!-- 127086534968 -->\n",
       "<g id=\"node5\" class=\"node\">\n",
       "<title>127086534968</title>\n",
       "<polygon fill=\"#f98f60\" stroke=\"#90918e\" points=\"419.15,-46.86 411.05,-54.06 411.05,-39.66 419.15,-46.86\"/>\n",
       "</g>\n",
       "<!-- 127066435671 -->\n",
       "<g id=\"node6\" class=\"node\">\n",
       "<title>127066435671</title>\n",
       "<polygon fill=\"#f98f60\" stroke=\"#90918e\" points=\"419.15,-148.86 411.05,-156.06 411.05,-141.66 419.15,-148.86\"/>\n",
       "</g>\n",
       "<!-- 127066435566 -->\n",
       "<g id=\"node7\" class=\"node\">\n",
       "<title>127066435566</title>\n",
       "<polygon fill=\"#f98f60\" stroke=\"#90918e\" points=\"139.57,-166.26 134.17,-160.86 139.57,-155.46 144.97,-160.86 139.57,-166.26\"/>\n",
       "</g>\n",
       "</g>\n",
       "</svg>"
      ],
      "text/plain": [
       "<IPython.core.display.SVG object>"
      ]
     },
     "metadata": {},
     "output_type": "display_data"
    }
   ],
   "source": [
    "su = qs.sanunits\n",
    "S1 = su.Splitter('S1', ins=ww1, outs=('to_HX', 'to_mixer'), split=0.2)\n",
    "H1 = su.HXutility('H1', ins=S1-0, T=273.15+50)\n",
    "H1.neglect_pressure_drop = True\n",
    "M1 = su.MixTank('M1', ins=(S1-1, ww2), tau=2)\n",
    "sys = qs.System('sys', path=(S1, H1, M1))\n",
    "sys.simulate()\n",
    "sys.diagram()"
   ]
  },
  {
   "cell_type": "code",
   "execution_count": 25,
   "id": "ab36c2a4-2710-4247-bda4-5256c11c8411",
   "metadata": {},
   "outputs": [],
   "source": [
    "ww1.price = ww2.price = 0.1\n",
    "tea = qs.SimpleTEA(sys, lifetime=10)"
   ]
  },
  {
   "cell_type": "code",
   "execution_count": 29,
   "id": "520a34a2-1062-40bd-9836-8d4a6d42bb47",
   "metadata": {},
   "outputs": [],
   "source": [
    "# # Add some stream impacts for LCA\n",
    "# GWP = qs.ImpactIndicator('GWP', alias='GWP', unit='kg CO2')\n",
    "# ww_item1 = qs.StreamImpactItem('ww_item1', linked_stream=ww1, GWP=0.1)\n",
    "# ww_item2 = ww_item1.copy('ww_item2', stream=ww2)\n",
    "\n",
    "# Add some stream impacts for LCA\n",
    "GWP = qs.ImpactIndicator('GWP', alias='GWP', unit='kg CO2')\n",
    "ww_item1 = qs.StreamImpactItem('ww_item1', linked_stream=ww1, GWP=0.1)\n",
    "ww_item2 = qs.StreamImpactItem('ww_item2', linked_stream=ww2, GWP=0.1)"
   ]
  },
  {
   "cell_type": "code",
   "execution_count": 30,
   "id": "b5a4c40d-9a16-4434-aefb-f18c567e5979",
   "metadata": {},
   "outputs": [],
   "source": [
    "StainlessSteel = qs.ImpactItem('StainlessSteel', functional_unit='kg', GWP=4)\n",
    "M1_ss = qs.Construction('M1_ss', item=StainlessSteel)\n",
    "M1.construction = (M1_ss,)"
   ]
  },
  {
   "cell_type": "code",
   "execution_count": 31,
   "id": "63d16745-60b9-4f98-ae1e-26b451c4bdad",
   "metadata": {},
   "outputs": [],
   "source": [
    "# Instead of making a subclass of `MixTank` to add the impacts,\n",
    "# we can do so on the fly\n",
    "old_M1_design = M1._design\n",
    "def new_M1_design():\n",
    "    old_M1_design() # we firstly call the origin design method\n",
    "    M1_ss.quantity = M1.design_results['Total volume'] * 5000 # 5000 is just the assumed density\n",
    "    M1.add_construction()\n",
    "M1._design = new_M1_design # in this line we pass the new design method to M1"
   ]
  },
  {
   "cell_type": "code",
   "execution_count": 32,
   "id": "9e6e9b1a-9994-4a9c-8185-3cfcf565f2ec",
   "metadata": {},
   "outputs": [],
   "source": [
    "# Also let's add in the impacts for electricity\n",
    "Electricity = qs.ImpactItem('Electricity', functional_unit='kWh', GWP=0.1)"
   ]
  },
  {
   "cell_type": "code",
   "execution_count": 33,
   "id": "052b27cf-a447-40c0-9152-7c9af2c10a3e",
   "metadata": {},
   "outputs": [
    {
     "name": "stderr",
     "output_type": "stream",
     "text": [
      "C:\\Users\\Aravi\\anaconda3\\envs\\qsdsan_new\\lib\\site-packages\\biosteam\\_unit.py:801: RuntimeWarning: the purchase cost item, 'StainlessSteel', has no defined bare-module factor in the 'MixTank.F_BM' dictionary; bare-module factor now has a default value of 1\n",
      "  warn(f\"the purchase cost item, '{name}', has \"\n"
     ]
    }
   ],
   "source": [
    "# Finally the LCA\n",
    "lca = qs.LCA(sys, lifetime=10,\n",
    "             # The electricity is in kWh/yr, so multiply by the lifetime\n",
    "             Electricity=lambda:sys.get_electricity_consumption()*10)"
   ]
  },
  {
   "cell_type": "code",
   "execution_count": 34,
   "id": "62103886-6ee0-49d6-bd39-07863f2cf348",
   "metadata": {},
   "outputs": [],
   "source": [
    "model = Model(sys)"
   ]
  },
  {
   "cell_type": "code",
   "execution_count": 35,
   "id": "e79418fe-fe6b-4c85-93ee-df817b8bc94e",
   "metadata": {},
   "outputs": [],
   "source": [
    "# We use the package `chaospy` to create distributions\n",
    "from chaospy import distributions as shape"
   ]
  },
  {
   "cell_type": "code",
   "execution_count": 36,
   "id": "69961547-490b-4020-9749-24b4b72ca65f",
   "metadata": {},
   "outputs": [],
   "source": [
    "# There are multiple ways we can use the `parameter` method,\n",
    "# but I like the following one most\n",
    "param = model.parameter\n",
    "\n",
    "dist = shape.Uniform(lower=0.05, upper=0.15)\n",
    "@param(name='Wastewater price',\n",
    "       element='TEA', # `element` determine which portion of the system will be simulated\n",
    "       # `kind` determines whether the value will be included in simulation\n",
    "       kind='isolated',\n",
    "       units='USD/kg',\n",
    "       baseline=ww1.price, distribution=dist)\n",
    "def set_ww_price(i): # here this `set_ww_price` is the `setter` function that will update the price\n",
    "    ww1.price = ww2.price = i"
   ]
  },
  {
   "cell_type": "code",
   "execution_count": 37,
   "id": "5012d6e0-bf73-462c-98a1-b085d2c1d4be",
   "metadata": {},
   "outputs": [],
   "source": [
    "# Then impact factors\n",
    "baseline = StainlessSteel.CFs['GWP']\n",
    "dist = shape.Uniform(lower=baseline*0.9, upper=baseline*1.1)\n",
    "@param(name='Stainless steel GWP', element='LCA', kind='isolated',\n",
    "       units='kg CO2/kg', baseline=baseline, distribution=dist)\n",
    "def set_ss_GWP(i):\n",
    "    StainlessSteel.CFs['GWP'] = i\n",
    "\n",
    "baseline = Electricity.CFs['GWP']\n",
    "dist = shape.Uniform(lower=baseline*0.9, upper=baseline*1.1)\n",
    "@param(name='Electricity GWP', element='LCA', kind='isolated',\n",
    "       units='kg CO2/kg', baseline=baseline, distribution=dist)\n",
    "def set_e_GWP(i):\n",
    "    Electricity.CFs['GWP'] = i"
   ]
  },
  {
   "cell_type": "code",
   "execution_count": 38,
   "id": "b8bd8933-e134-4f7d-9886-dc4ca2d91a67",
   "metadata": {},
   "outputs": [],
   "source": [
    "# And finally the split ratio and heat exchanger temperature,\n",
    "# `kind` need to be \"coupled\" for them because these two parameters\n",
    "# would affect mass/energy balance (e.g., they are used in the `_run` method)\n",
    "dist = shape.Triangle(lower=0.1, midpoint=0.2, upper=0.3)\n",
    "@param(name='S1 split', element=S1, kind='coupled',\n",
    "       units='-', baseline=0.2, distribution=dist)\n",
    "def set_S1_split(i):\n",
    "    S1.split = i\n",
    "\n",
    "baseline = H1.T\n",
    "# `midpoint` doesn't need to be the same as the baseline\n",
    "dist = shape.Triangle(lower=baseline-5, midpoint=baseline+1, upper=baseline*1.1)\n",
    "@param(name='H1 temperature', element=H1, kind='coupled',\n",
    "       units='°C', baseline=baseline, distribution=dist)\n",
    "def set_H1_T(i):\n",
    "    H1.T = i"
   ]
  },
  {
   "cell_type": "code",
   "execution_count": 39,
   "id": "39213ace-a619-4df1-8134-e28995e8ab86",
   "metadata": {},
   "outputs": [
    {
     "data": {
      "text/plain": [
       "<Metric: [LCA] GWP (kg CO2/yr)>"
      ]
     },
     "execution_count": 39,
     "metadata": {},
     "output_type": "execute_result"
    }
   ],
   "source": [
    "# Now it's time to add metrics!\n",
    "# Of course we are interested in the net earnings and total GWP,\n",
    "# again showing two ways to add metrics\n",
    "metric = model.metric\n",
    "@metric(name='Net earning', units='USD/yr', element='TEA')\n",
    "def get_annual_net_earnings():\n",
    "    return tea.net_earnings\n",
    "\n",
    "# Again two ways to do so\n",
    "def get_annual_GWP():\n",
    "    return lca.total_impacts['GWP']/lca.lifetime\n",
    "metric(getter=get_annual_GWP, name='GWP', units='kg CO2/yr', element='LCA')"
   ]
  },
  {
   "cell_type": "code",
   "execution_count": 40,
   "id": "c0acc69c-8db9-4a91-9f34-4caddf75e79a",
   "metadata": {},
   "outputs": [
    {
     "name": "stdout",
     "output_type": "stream",
     "text": [
      "Model:\n",
      "parameters: TEA - Wastewater price [USD/kg]\n",
      "            LCA - Stainless steel GWP [kg CO2/kg]\n",
      "            LCA - Electricity GWP [kg CO2/kg]\n",
      "            Splitter-S1 - S1 split [-]\n",
      "            Heat exchanger-H1 - H1 temperature [°C]\n",
      "metrics: TEA - Net earning [USD/yr]\n",
      "         LCA - GWP [kg CO2/yr]\n"
     ]
    }
   ],
   "source": [
    "model"
   ]
  },
  {
   "cell_type": "code",
   "execution_count": 41,
   "id": "88361db8-eaab-4326-ae27-3064cab2068c",
   "metadata": {},
   "outputs": [],
   "source": [
    "# Once we have the model, Monte Carlo would be a breeze\n",
    "import numpy as np\n",
    "np.random.seed(3221) # setting the seed ensures you getting the same sample\n",
    "\n",
    "# Let's say we want to perform 100 simulations\n",
    "samples = model.sample(N=100, rule='L')\n",
    "model.load_samples(samples)\n",
    "model.evaluate()"
   ]
  },
  {
   "cell_type": "code",
   "execution_count": 42,
   "id": "3f12fac2-d696-4e9c-a62e-14b60746981b",
   "metadata": {},
   "outputs": [],
   "source": [
    "# Here are some codes I often use to clean up the results\n",
    "import pandas as pd\n",
    "def organize_results(model, path):\n",
    "    idx = len(model.parameters)\n",
    "    parameters = model.table.iloc[:, :idx]\n",
    "    results = model.table.iloc[:, idx:]\n",
    "    percentiles = results.quantile([0, 0.05, 0.25, 0.5, 0.75, 0.95, 1])\n",
    "    with pd.ExcelWriter(path) as writer:\n",
    "        parameters.to_excel(writer, sheet_name='Parameters')\n",
    "        results.to_excel(writer, sheet_name='Results')\n",
    "        percentiles.to_excel(writer, sheet_name='Percentiles')"
   ]
  },
  {
   "cell_type": "code",
   "execution_count": 43,
   "id": "95a625d8-cd20-476b-8b45-12b5d653501d",
   "metadata": {},
   "outputs": [
    {
     "name": "stderr",
     "output_type": "stream",
     "text": [
      "C:\\Users\\Aravi\\OneDrive\\Desktop\\workspace\\QSDsan\\qsdsan\\stats.py:849: FutureWarning: The previous implementation of stack is deprecated and will be removed in a future version of pandas. See the What's New notes for pandas 2.1.0 for details. Specify future_stack=True to adopt the new implementation and silence this warning.\n",
      "  temp_df = x_df.stack(dropna=False).reset_index(name='x_data')\n"
     ]
    },
    {
     "data": {
      "image/png": "[encoded data removed]",
      "text/plain": [
       "<Figure size 640x480 with 1 Axes>"
      ]
     },
     "execution_count": 43,
     "metadata": {},
     "output_type": "execute_result"
    }
   ],
   "source": [
    "# You can have a quick look of the results by using the handy functions in the `stats` module\n",
    "fig, ax = qs.stats.plot_uncertainties(model)\n",
    "fig"
   ]
  },
  {
   "cell_type": "code",
   "execution_count": 44,
   "id": "0caf0a9a-21ee-489b-9f58-f71a2bb56b2f",
   "metadata": {},
   "outputs": [
    {
     "data": {
      "image/png": "[encoded data removed]",
      "text/plain": [
       "<Figure size 600x600 with 3 Axes>"
      ]
     },
     "execution_count": 44,
     "metadata": {},
     "output_type": "execute_result"
    }
   ],
   "source": [
    "# There are some fancy plots\n",
    "fig, ax = qs.stats.plot_uncertainties(model, x_axis=model.metrics[0], y_axis=model.metrics[1],\n",
    "                                      kind='kde-kde', center_kws={'fill': True})\n",
    "fig"
   ]
  },
  {
   "cell_type": "code",
   "execution_count": 45,
   "id": "e56c0dfc-fefb-479f-934b-d87c42ebcfcf",
   "metadata": {},
   "outputs": [
    {
     "name": "stdout",
     "output_type": "stream",
     "text": [
      "Element                                                            TEA             LCA\n",
      "Input y                                           Net earning [USD/yr] GWP [kg CO2/yr]\n",
      "Element           Input x                                                             \n",
      "TEA               Wastewater price [USD/kg]                         -1         -0.0872\n",
      "LCA               Stainless steel GWP [kg CO2/kg]                0.178           0.765\n",
      "                  Electricity GWP [kg CO2/kg]                   0.0891          -0.125\n",
      "Splitter-S1       S1 split [-]                                  0.0742          -0.607\n",
      "Heat exchanger-H1 H1 temperature [°C]                           0.0992          -0.119 Element                                                            TEA             LCA\n",
      "Input y                                           Net earning [USD/yr] GWP [kg CO2/yr]\n",
      "Element           Input x                                                             \n",
      "TEA               Wastewater price [USD/kg]                          0           0.388\n",
      "LCA               Stainless steel GWP [kg CO2/kg]               0.0769        2.02e-20\n",
      "                  Electricity GWP [kg CO2/kg]                    0.378           0.215\n",
      "Splitter-S1       S1 split [-]                                   0.463        2.17e-11\n",
      "Heat exchanger-H1 H1 temperature [°C]                            0.326           0.237\n"
     ]
    }
   ],
   "source": [
    "r_df, p_df = qs.stats.get_correlations(model, kind='Spearman')\n",
    "print(r_df, p_df)"
   ]
  },
  {
   "cell_type": "code",
   "execution_count": 46,
   "id": "50ef1861-29db-4465-90b0-b31cdf888081",
   "metadata": {},
   "outputs": [
    {
     "name": "stderr",
     "output_type": "stream",
     "text": [
      "C:\\Users\\Aravi\\OneDrive\\Desktop\\workspace\\QSDsan\\qsdsan\\stats.py:1072: FutureWarning: The previous implementation of stack is deprecated and will be removed in a future version of pandas. See the What's New notes for pandas 2.1.0 for details. Specify future_stack=True to adopt the new implementation and silence this warning.\n",
      "  corr_df = df.stack(dropna=False).reset_index()\n"
     ]
    },
    {
     "data": {
      "image/png": "[encoded data removed]",
      "text/plain": [
       "<Figure size 666.375x540 with 1 Axes>"
      ]
     },
     "execution_count": 46,
     "metadata": {},
     "output_type": "execute_result"
    }
   ],
   "source": [
    "# The figure just makes it so much easier to grasp the results :p\n",
    "fig, ax = qs.stats.plot_correlations(r_df)\n",
    "fig"
   ]
  },
  {
   "cell_type": "code",
   "execution_count": 48,
   "id": "3a1a7967-4583-4eac-801b-5cc87e14856b",
   "metadata": {},
   "outputs": [
    {
     "data": {
      "text/plain": [
       "qsdsan._process.Process"
      ]
     },
     "execution_count": 48,
     "metadata": {},
     "output_type": "execute_result"
    }
   ],
   "source": [
    "qs.Process"
   ]
  },
  {
   "cell_type": "code",
   "execution_count": null,
   "id": "0a7d5240-c58e-4a98-86f1-12bd7918ee4a",
   "metadata": {},
   "outputs": [],
   "source": []
  }
 ],
 "metadata": {
  "kernelspec": {
   "display_name": "Python 3 (ipykernel)",
   "language": "python",
   "name": "python3"
  },
  "language_info": {
   "codemirror_mode": {
    "name": "ipython",
    "version": 3
   },
   "file_extension": ".py",
   "mimetype": "text/x-python",
   "name": "python",
   "nbconvert_exporter": "python",
   "pygments_lexer": "ipython3",
   "version": "3.10.14"
  }
 },
 "nbformat": 4,
 "nbformat_minor": 5
}
