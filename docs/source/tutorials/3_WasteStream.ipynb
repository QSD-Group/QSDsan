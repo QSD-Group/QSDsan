{
 "cells": [
  {
   "cell_type": "markdown",
   "metadata": {},
   "source": [
    "# `WasteStream` <a class=\"anchor\" id=\"top\"></a>\n",
    "\n",
    "- **Prepared by:**\n",
    "    \n",
    "    - [Yalin Li](https://qsdsan.readthedocs.io/en/latest/CONTRIBUTING.html)\n",
    "    - [Joy Zhang](https://qsdsan.readthedocs.io/en/latest/CONTRIBUTING.html)\n",
    "\n",
    "- **Covered topics:**\n",
    "\n",
    "    - [1. Creating WasteStream](#s1)\n",
    "    - [2. Major attributes](#s2)\n",
    "    \n",
    "- **Video demo:**\n",
    "\n",
    "    - [Hannah Lohman](https://qsdsan.readthedocs.io/en/latest/authors/Hannah_Lohman.html)\n",
    "    \n",
    "To run tutorials in your browser, go to this [Binder page](https://mybinder.org/v2/gh/QSD-Group/QSDsan-env/main?urlpath=git-pull%3Frepo%3Dhttps%253A%252F%252Fgithub.com%252FQSD-group%252FQSDsan%26urlpath%3Dtree%252FQSDsan%252Fdocs%252Fsource%252Ftutorials%26branch%3Dmain).\n",
    "\n",
    "You can also watch a video demo on [YouTube](https://youtu.be/yCOZ0F6E1Sw) (subscriptions & likes appreciated!)."
   ]
  },
  {
   "cell_type": "code",
   "execution_count": 1,
   "metadata": {},
   "outputs": [
    {
     "name": "stdout",
     "output_type": "stream",
     "text": [
      "This tutorial was made with qsdsan v1.2.0.\n"
     ]
    }
   ],
   "source": [
    "import qsdsan as qs\n",
    "print(f'This tutorial was made with qsdsan v{qs.__version__}.')"
   ]
  },
  {
   "cell_type": "markdown",
   "metadata": {},
   "source": [
    "## 1. Creating `WasteStream` <a class=\"anchor\" id=\"s1\"></a>\n",
    "A `WasteStream` object can be created by defining flow rate of each `Component` (similar to creation of a `Stream`) or through built-in influent characterization models (e.g., by specifying total volumetric flowrate, concentrations of total COD, TKN, etc. together with COD fractions)."
   ]
  },
  {
   "cell_type": "markdown",
   "metadata": {},
   "source": [
    "---\n",
    "### Note\n",
    "`qsdsan` can work with three main stream classes: `Stream`, `SanStream`, and `WasteStream`. `Stream` is from the package `thermosteam` while `SanStream` and `WasteStream` are created in `qsdsan`. The following tutorial is focused on `WasteStream` as it is one of the core classes of `qsdsan`. You can learn more about the different classes in the [documentation](https://qsdsan.readthedocs.io/en/latest/api/streams.html).\n",
    "\n",
    "In the future, it is likely that the `SanStream` class will be merged into `thermosteam` so that LCA can be implemented for systems developed using `BioSTEAM`."
   ]
  },
  {
   "cell_type": "markdown",
   "metadata": {},
   "source": [
    "---"
   ]
  },
  {
   "cell_type": "code",
   "execution_count": 2,
   "metadata": {},
   "outputs": [],
   "source": [
    "qs.WasteStream?"
   ]
  },
  {
   "cell_type": "code",
   "execution_count": 3,
   "metadata": {},
   "outputs": [],
   "source": [
    "# Before using `WasteStream`, we need to tell qsdsan what components we will be working with\n",
    "# let's load the default components for the demo purpose\n",
    "cmps = qs.Components.load_default()\n",
    "qs.set_thermo(cmps)"
   ]
  },
  {
   "cell_type": "code",
   "execution_count": 4,
   "metadata": {},
   "outputs": [
    {
     "name": "stdout",
     "output_type": "stream",
     "text": [
      "CompiledComponents([S_H2, S_CH4, S_CH3OH, S_Ac, S_Prop, S_F, S_U_Inf, S_U_E, C_B_Subst, C_B_BAP, C_B_UAP, C_U_Inf, X_B_Subst, X_OHO_PHA, X_GAO_PHA, X_PAO_PHA, X_GAO_Gly, X_PAO_Gly, X_OHO, X_AOO, X_NOO, X_AMO, X_PAO, X_MEOLO, X_FO, X_ACO, X_HMO, X_PRO, X_U_Inf, X_U_OHO_E, X_U_PAO_E, X_Ig_ISS, X_MgCO3, X_CaCO3, X_MAP, X_HAP, X_HDP, X_FePO4, X_AlPO4, X_AlOH, X_FeOH, X_PAO_PP_Lo, X_PAO_PP_Hi, S_NH4, S_NO2, S_NO3, S_PO4, S_K, S_Ca, S_Mg, S_CO3, S_N2, S_O2, S_CAT, S_AN, H2O])\n"
     ]
    }
   ],
   "source": [
    "# Just to remind ourselves what are the default components\n",
    "cmps"
   ]
  },
  {
   "cell_type": "markdown",
   "metadata": {},
   "source": [
    "### 1.1. By defining component flow rate"
   ]
  },
  {
   "cell_type": "code",
   "execution_count": 5,
   "metadata": {},
   "outputs": [
    {
     "name": "stdout",
     "output_type": "stream",
     "text": [
      "WasteStream: ws1\n",
      " phase: 'l', T: 298.15 K, P: 101325 Pa\n",
      " flow (g/hr): X_GAO_Gly  500\n",
      "              H2O        1e+06\n",
      " WasteStream-specific properties:\n",
      "  pH         : 7.0\n",
      "  Alkalinity : 2.5 mg/L\n",
      "  COD        : 498.4 mg/L\n",
      "  BOD        : 289.0 mg/L\n",
      "  TC         : 186.9 mg/L\n",
      "  TOC        : 186.9 mg/L\n",
      " Component concentrations (mg/L):\n",
      "  X_GAO_Gly    498.4\n",
      "  H2O          996705.4\n"
     ]
    }
   ],
   "source": [
    "# You can initialize a WasteStream by setting the flow rate of the components within it,\n",
    "# we usually use lower case for ID of a WasteStream\n",
    "ws1 = qs.WasteStream('ws1', X_GAO_Gly=.5, H2O=1000, units='kg/hr')\n",
    "ws1.show()"
   ]
  },
  {
   "cell_type": "code",
   "execution_count": 6,
   "metadata": {},
   "outputs": [
    {
     "name": "stdout",
     "output_type": "stream",
     "text": [
      "WasteStream: ws1\n",
      " phase: 'l', T: 298.15 K, P: 101325 Pa\n",
      " flow (kg/hr): X_GAO_Gly  1.5\n",
      "               H2O        1.8e+03\n",
      " WasteStream-specific properties:\n",
      "  pH         : 7.0\n",
      "  Alkalinity : 2.5 mg/L\n",
      "  ...\n",
      " Component concentrations (g/L):\n",
      "  X_GAO_Gly    0.8\n",
      "  H2O          996.5\n"
     ]
    },
    {
     "name": "stderr",
     "output_type": "stream",
     "text": [
      "/Users/yalinli_cabbi/opt/anaconda3/envs/demo/lib/python3.8/site-packages/qsdsan/_sanstream.py:59: RuntimeWarning: <WasteStream: ws1> has been replaced in registry\n",
      "  super().__init__(ID=ID, flow=flow, phase=phase, T=T, P=P,\n"
     ]
    }
   ],
   "source": [
    "# You can certainly use differnent units in defining and showing the stream,\n",
    "# note that using the same ID will replace the original one (and you'll receive a warning like the one below)\n",
    "# also note that the `ws1` in the beginning () is not the same as the \"ws1\" in the parentheses (actual ID),\n",
    "# you can use different names, but for consistency we usually keep them as the same\n",
    "ws1 = qs.WasteStream('ws1', X_GAO_Gly=1.5, H2O=100, units='kmol/hr')\n",
    "ws1.show(flow='kg/hr', details=False, concentrations='g/L')"
   ]
  },
  {
   "cell_type": "code",
   "execution_count": 7,
   "metadata": {},
   "outputs": [
    {
     "data": {
      "text/plain": [
       "700.0649399604162"
      ]
     },
     "execution_count": 7,
     "metadata": {},
     "output_type": "execute_result"
    }
   ],
   "source": [
    "# You can also get other information such as TDS, VSS\n",
    "ws1.get_VSS()"
   ]
  },
  {
   "cell_type": "code",
   "execution_count": 8,
   "metadata": {},
   "outputs": [],
   "source": [
    "# To learn more about the attribute (e.g., unit of VSS), check the documentation\n",
    "ws1.get_VSS?"
   ]
  },
  {
   "cell_type": "markdown",
   "metadata": {},
   "source": [
    "### 1.2. By specifying component concentration"
   ]
  },
  {
   "cell_type": "code",
   "execution_count": 9,
   "metadata": {},
   "outputs": [
    {
     "name": "stdout",
     "output_type": "stream",
     "text": [
      "WasteStream: ws2\n",
      " phase: 'l', T: 298.15 K, P: 101325 Pa\n",
      " flow (g/hr): S_Ca  10\n",
      "              H2O   9.97e+04\n",
      " WasteStream-specific properties:\n",
      "  pH         : 7.0\n",
      "  Alkalinity : 2.5 mg/L\n",
      " Component concentrations (mg/L):\n",
      "  S_Ca         100.0\n",
      "  H2O          996909.7\n"
     ]
    }
   ],
   "source": [
    "# Sometimes we might prefer concentration over flow rates\n",
    "# Note that if you don't provide an ID, qsdsan will assign a default one as in \"wsX\"\n",
    "# (X being an ascending number)\n",
    "ws2 = qs.WasteStream()\n",
    "ws2.set_flow_by_concentration(flow_tot=100, concentrations={'S_Ca':100}, units=('L/hr', 'mg/L'))\n",
    "ws2.show()"
   ]
  },
  {
   "cell_type": "markdown",
   "metadata": {},
   "source": [
    "### 1.3. By using wastewater models"
   ]
  },
  {
   "cell_type": "code",
   "execution_count": 10,
   "metadata": {},
   "outputs": [],
   "source": [
    "# We can default the WasteSteram to typical raw wastewater composition based on different models\n",
    "qs.WasteStream.codstates_inf_model?"
   ]
  },
  {
   "cell_type": "code",
   "execution_count": 11,
   "metadata": {},
   "outputs": [
    {
     "name": "stdout",
     "output_type": "stream",
     "text": [
      "WasteStream: ws3\n",
      " phase: 'l', T: 298.15 K, P: 101325 Pa\n",
      " flow (g/hr): S_F        100\n",
      "              S_U_Inf    25\n",
      "              C_B_Subst  46.5\n",
      "              X_B_Subst  264\n",
      "              X_U_Inf    65\n",
      "              X_Ig_ISS   60.8\n",
      "              S_NH4      25\n",
      "              S_PO4      8\n",
      "              S_K        28\n",
      "              S_Ca       140\n",
      "              S_Mg       50\n",
      "              S_CO3      120\n",
      "              S_N2       18\n",
      "              S_CAT      3\n",
      "              S_AN       12\n",
      "              H2O        9.96e+05\n",
      " WasteStream-specific properties:\n",
      "  pH         : 6.8\n",
      "  Alkalinity : 10.0 mg/L\n",
      "  COD        : 500.0 mg/L\n",
      "  BOD        : 257.9 mg/L\n",
      "  TC         : 288.7 mg/L\n",
      "  TOC        : 160.0 mg/L\n",
      "  TN         : 40.0 mg/L\n",
      "  TP         : 11.0 mg/L\n",
      "  TK         : 28.0 mg/L\n",
      " Component concentrations (mg/L):\n",
      "  S_F          100.0\n",
      "  S_U_Inf      25.0\n",
      "  C_B_Subst    46.5\n",
      "  X_B_Subst    263.5\n",
      "  X_U_Inf      65.0\n",
      "  X_Ig_ISS     60.8\n",
      "  S_NH4        25.0\n",
      "  S_PO4        8.0\n",
      "  S_K          28.0\n",
      "  S_Ca         140.0\n",
      "  S_Mg         50.0\n",
      "  S_CO3        120.0\n",
      "  S_N2         18.0\n",
      "  S_CAT        3.0\n",
      "  S_AN         12.0\n",
      "  H2O          996087.7\n"
     ]
    }
   ],
   "source": [
    "ws3 = qs.WasteStream.codstates_inf_model('ws3', flow_tot=1000, pH=6.8, COD=500, TP=11)\n",
    "ws3.show(N=20)"
   ]
  },
  {
   "cell_type": "markdown",
   "metadata": {},
   "source": [
    "[Back to top](#top)"
   ]
  },
  {
   "cell_type": "markdown",
   "metadata": {},
   "source": [
    "## 2. Major attributes"
   ]
  },
  {
   "cell_type": "markdown",
   "metadata": {},
   "source": [
    "### 2.1. Retrieving flow info"
   ]
  },
  {
   "cell_type": "code",
   "execution_count": 12,
   "metadata": {},
   "outputs": [
    {
     "name": "stdout",
     "output_type": "stream",
     "text": [
      "The total mass flow rate of ws3 is 997.1 kg/hr\n",
      "\n",
      "996.0877273822409\n"
     ]
    },
    {
     "data": {
      "text/plain": [
       "property_array([0.0, 0.0, 0.0, 0.0, 0.0, 0.09999999999999999,\n",
       "                0.024999999999999998, 0.0, 0.0465, 0.0, 0.0, 0.0, 0.2635,\n",
       "                0.0, 0.0, 0.0, 0.0, 0.0, 0.0, 0.0, 0.0, 0.0, 0.0, 0.0,\n",
       "                0.0, 0.0, 0.0, 0.0, 0.065, 0.0, 0.0, 0.060833333382000004,\n",
       "                0.0, 0.0, 0.0, 0.0, 0.0, 0.0, 0.0, 0.0, 0.0, 0.0, 0.0,\n",
       "                0.024999999999999998, 0.0, 0.0, 0.008,\n",
       "                0.027999999999999994, 0.13999999999999999, 0.05,\n",
       "                0.11999999999999998, 0.018, 0.0, 0.003, 0.012,\n",
       "                996.0877273822409])"
      ]
     },
     "execution_count": 12,
     "metadata": {},
     "output_type": "execute_result"
    }
   ],
   "source": [
    "# In many cases we will want to get or the flow rates of all components at the same time,\n",
    "# to do that we can use\n",
    "print(f'The total mass flow rate of {ws3.ID} is {ws3.F_mass:.1f} kg/hr\\n') # '\\n' is just a line-breaker\n",
    "print(ws3.imass['H2O']) # mass flow rate, always in kg/hr\n",
    "ws3.mass # the entire array"
   ]
  },
  {
   "cell_type": "code",
   "execution_count": 13,
   "metadata": {},
   "outputs": [
    {
     "name": "stdout",
     "output_type": "stream",
     "text": [
      "The total molar flow rate of ws3 is 55.9 kmol/hr\n",
      "\n",
      "55.29127093124508\n"
     ]
    },
    {
     "data": {
      "text/plain": [
       "array([0.000e+00, 0.000e+00, 0.000e+00, 0.000e+00, 0.000e+00, 1.000e-01,\n",
       "       2.500e-02, 0.000e+00, 4.650e-02, 0.000e+00, 0.000e+00, 0.000e+00,\n",
       "       2.635e-01, 0.000e+00, 0.000e+00, 0.000e+00, 0.000e+00, 0.000e+00,\n",
       "       0.000e+00, 0.000e+00, 0.000e+00, 0.000e+00, 0.000e+00, 0.000e+00,\n",
       "       0.000e+00, 0.000e+00, 0.000e+00, 0.000e+00, 6.500e-02, 0.000e+00,\n",
       "       0.000e+00, 6.083e-02, 0.000e+00, 0.000e+00, 0.000e+00, 0.000e+00,\n",
       "       0.000e+00, 0.000e+00, 0.000e+00, 0.000e+00, 0.000e+00, 0.000e+00,\n",
       "       0.000e+00, 1.468e-03, 0.000e+00, 0.000e+00, 4.146e-05, 7.161e-04,\n",
       "       3.493e-03, 2.057e-03, 1.967e-03, 6.425e-04, 0.000e+00, 3.000e-03,\n",
       "       1.200e-02, 5.529e+01])"
      ]
     },
     "execution_count": 13,
     "metadata": {},
     "output_type": "execute_result"
    }
   ],
   "source": [
    "# Similarly for molar and volumetric flow rates\n",
    "print(f'The total molar flow rate of {ws3.ID} is {ws3.F_mol:.1f} kmol/hr\\n')\n",
    "print(ws3.imol['H2O'])\n",
    "ws3.mol"
   ]
  },
  {
   "cell_type": "code",
   "execution_count": 14,
   "metadata": {},
   "outputs": [
    {
     "name": "stdout",
     "output_type": "stream",
     "text": [
      "The total volumetric flow rate of ws3 is 1.0 m3/hr\n",
      "\n",
      "0.9990601793487384\n"
     ]
    },
    {
     "data": {
      "text/plain": [
       "property_array([0.0, 0.0, 0.0, 0.0, 0.0, 0.00011541180876787882,\n",
       "                2.8852952191969706e-05, 0.0, 2.988425157209598e-05, 0.0,\n",
       "                0.0, 0.0, 0.00016934409224187723, 0.0, 0.0, 0.0, 0.0, 0.0,\n",
       "                0.0, 0.0, 0.0, 0.0, 0.0, 0.0, 0.0, 0.0, 0.0, 0.0,\n",
       "                4.177368499325245e-05, 0.0, 0.0, 3.909588470444887e-05,\n",
       "                0.0, 0.0, 0.0, 0.0, 0.0, 0.0, 0.0, 0.0, 0.0, 0.0, 0.0,\n",
       "                4.153439138452432e-05, 0.0, 0.0, 9.232944701430308e-06,\n",
       "                3.231530645500607e-05, 0.00016157653227503034,\n",
       "                5.770590438393942e-05, 0.00013849607715419416,\n",
       "                5.7285049120968535e-05, 0.0, 3.4623542630363655e-06,\n",
       "                1.3849417052145462e-05, 0.9990601793487384])"
      ]
     },
     "execution_count": 14,
     "metadata": {},
     "output_type": "execute_result"
    }
   ],
   "source": [
    "print(f'The total volumetric flow rate of {ws3.ID} is {ws3.F_vol:.1f} m3/hr\\n')\n",
    "print(ws3.ivol['H2O'])\n",
    "ws3.vol"
   ]
  },
  {
   "cell_type": "code",
   "execution_count": 15,
   "metadata": {},
   "outputs": [
    {
     "data": {
      "text/plain": [
       "property_array([0.0, 0.0, 0.0, 0.0, 0.0, 99.99999999999996,\n",
       "                24.99999999999999, 0.0, 46.49999999999999, 0.0, 0.0, 0.0,\n",
       "                263.49999999999994, 0.0, 0.0, 0.0, 0.0, 0.0, 0.0, 0.0,\n",
       "                0.0, 0.0, 0.0, 0.0, 0.0, 0.0, 0.0, 0.0, 64.99999999999999,\n",
       "                0.0, 0.0, 60.83333338199999, 0.0, 0.0, 0.0, 0.0, 0.0, 0.0,\n",
       "                0.0, 0.0, 0.0, 0.0, 0.0, 24.99999999999999, 0.0, 0.0,\n",
       "                7.999999999999998, 27.999999999999986, 139.99999999999994,\n",
       "                49.999999999999986, 119.99999999999996,\n",
       "                17.999999999999996, 0.0, 2.9999999999999996,\n",
       "                11.999999999999998, 996087.7273822407])"
      ]
     },
     "execution_count": 15,
     "metadata": {},
     "output_type": "execute_result"
    }
   ],
   "source": [
    "# Also concentrations (in g/m3)\n",
    "ws3.Conc"
   ]
  },
  {
   "cell_type": "code",
   "execution_count": 16,
   "metadata": {},
   "outputs": [
    {
     "name": "stdout",
     "output_type": "stream",
     "text": [
      "Before updating, mass flow of water is 996.0877273822409\n",
      "After updating, mass flow of water is 1992.1754547644819\n"
     ]
    }
   ],
   "source": [
    "# And you can update the arrays as you like\n",
    "print(f\"Before updating, mass flow of water is {ws3.imass['H2O']}\")\n",
    "ws3.imass['H2O'] *= 2 # this is the same as `ws3.imass['H20'] = `ws3.imass['H20']*2`\n",
    "print(f\"After updating, mass flow of water is {ws3.imass['H2O']}\")"
   ]
  },
  {
   "cell_type": "code",
   "execution_count": 17,
   "metadata": {},
   "outputs": [
    {
     "name": "stdout",
     "output_type": "stream",
     "text": [
      "Before updating, mass array is \n",
      "[0.0 0.0 0.0 0.0 0.0 0.09999999999999999 0.024999999999999998 0.0 0.0465\n",
      " 0.0 0.0 0.0 0.2635 0.0 0.0 0.0 0.0 0.0 0.0 0.0 0.0 0.0 0.0 0.0 0.0 0.0\n",
      " 0.0 0.0 0.065 0.0 0.0 0.060833333382000004 0.0 0.0 0.0 0.0 0.0 0.0 0.0\n",
      " 0.0 0.0 0.0 0.0 0.024999999999999998 0.0 0.0 0.008 0.027999999999999994\n",
      " 0.13999999999999999 0.05 0.11999999999999998 0.018 0.0 0.003 0.012\n",
      " 1992.1754547644819]\n",
      "After updating, mass array is \n",
      "[0.0 0.0 0.0 0.0 0.0 0.049999999999999996 0.012499999999999999 0.0 0.02325\n",
      " 0.0 0.0 0.0 0.13175 0.0 0.0 0.0 0.0 0.0 0.0 0.0 0.0 0.0 0.0 0.0 0.0 0.0\n",
      " 0.0 0.0 0.0325 0.0 0.0 0.030416666691000002 0.0 0.0 0.0 0.0 0.0 0.0 0.0\n",
      " 0.0 0.0 0.0 0.0 0.012499999999999999 0.0 0.0 0.004 0.013999999999999997\n",
      " 0.06999999999999999 0.025 0.05999999999999999 0.009 0.0 0.0015 0.006\n",
      " 996.0877273822409]\n"
     ]
    }
   ],
   "source": [
    "# This works on the entire array as well\n",
    "print(f\"Before updating, mass array is \\n{ws3.mass}\")\n",
    "ws3.mass /= 2\n",
    "print(f\"After updating, mass array is \\n{ws3.mass}\")"
   ]
  },
  {
   "cell_type": "markdown",
   "metadata": {},
   "source": [
    "### 2.2. Copying, mixing, and splitting"
   ]
  },
  {
   "cell_type": "code",
   "execution_count": 18,
   "metadata": {},
   "outputs": [
    {
     "name": "stdout",
     "output_type": "stream",
     "text": [
      "WasteStream: copy_of_ws1\n",
      " phase: 'l', T: 298.15 K, P: 101325 Pa\n",
      " flow (g/hr): X_GAO_Gly  1.5e+03\n",
      "              H2O        1.8e+06\n",
      " WasteStream-specific properties:\n",
      "  pH         : 7.0\n",
      "  Alkalinity : 2.5 mg/L\n",
      "  COD        : 829.7 mg/L\n",
      "  BOD        : 481.1 mg/L\n",
      "  TC         : 311.1 mg/L\n",
      "  TOC        : 311.1 mg/L\n",
      " Component concentrations (mg/L):\n",
      "  X_GAO_Gly    829.7\n",
      "  H2O          996493.1\n"
     ]
    }
   ],
   "source": [
    "# We can make copies of a stream\n",
    "ws4 = ws1.copy(new_ID='copy_of_ws1')\n",
    "ws4.show()"
   ]
  },
  {
   "cell_type": "code",
   "execution_count": 19,
   "metadata": {},
   "outputs": [
    {
     "name": "stdout",
     "output_type": "stream",
     "text": [
      "WasteStream: ws4\n",
      " phase: 'l', T: 298.15 K, P: 101325 Pa\n",
      " flow (g/hr): S_F        50\n",
      "              S_U_Inf    12.5\n",
      "              C_B_Subst  23.3\n",
      "              X_B_Subst  132\n",
      "              X_U_Inf    32.5\n",
      "              X_Ig_ISS   30.4\n",
      "              S_NH4      12.5\n",
      "              S_PO4      4\n",
      "              S_K        14\n",
      "              S_Ca       80\n",
      "              S_Mg       25\n",
      "              S_CO3      60\n",
      "              S_N2       9\n",
      "              S_CAT      1.5\n",
      "              S_AN       6\n",
      "              ...\n",
      " WasteStream-specific properties:\n",
      "  pH         : 6.8\n",
      "  Alkalinity : 9.3 mg/L\n",
      "  COD        : 227.4 mg/L\n",
      "  BOD        : 117.3 mg/L\n",
      "  TC         : 131.3 mg/L\n",
      "  TOC        : 72.8 mg/L\n",
      "  TN         : 18.2 mg/L\n",
      "  TP         : 5.0 mg/L\n",
      "  TK         : 12.7 mg/L\n",
      " Component concentrations (mg/L):\n",
      "  S_F          45.5\n",
      "  S_U_Inf      11.4\n",
      "  C_B_Subst    21.1\n",
      "  X_B_Subst    119.8\n",
      "  X_U_Inf      29.6\n",
      "  X_Ig_ISS     27.7\n",
      "  S_NH4        11.4\n",
      "  S_PO4        3.6\n",
      "  S_K          12.7\n",
      "  S_Ca         72.8\n",
      "  S_Mg         22.7\n",
      "  S_CO3        54.6\n",
      "  S_N2         8.2\n",
      "  S_CAT        1.4\n",
      "  S_AN         5.5\n",
      "  ...\n"
     ]
    }
   ],
   "source": [
    "# We can mix two streams\n",
    "ws5 = qs.WasteStream()\n",
    "ws5.mix_from((ws2, ws3))\n",
    "ws5.show()"
   ]
  },
  {
   "cell_type": "code",
   "execution_count": 20,
   "metadata": {},
   "outputs": [],
   "source": [
    "# Or split one stream into two, note that the split will be the fraction to the first effluent stream\n",
    "ws6, ws7 = qs.WasteStream(), qs.WasteStream()\n",
    "ws5.split_to(ws6, ws7, split=0.3)"
   ]
  },
  {
   "cell_type": "code",
   "execution_count": 21,
   "metadata": {},
   "outputs": [
    {
     "name": "stdout",
     "output_type": "stream",
     "text": [
      "1096.271112389316 328.88133371679476 767.3897786725211 diff is 1.1368683772161603e-13\n"
     ]
    }
   ],
   "source": [
    "print(ws5.F_mass, ws6.F_mass, ws7.F_mass, f'diff is {ws5.F_mass-ws6.F_mass-ws7.F_mass}')"
   ]
  },
  {
   "cell_type": "code",
   "execution_count": 22,
   "metadata": {},
   "outputs": [],
   "source": [
    "# In splitting, you can set the split for each Component\n",
    "ws8 = qs.WasteStream(X_AlOH=1, H2O=1000, units='kg/hr')\n",
    "ws9, ws10 = qs.WasteStream(), qs.WasteStream()\n",
    "split = cmps.kwarray({'X_AlOH':0.5, 'H2O':0.8})\n",
    "ws8.split_to(ws9, ws10, split=split)"
   ]
  },
  {
   "cell_type": "code",
   "execution_count": 23,
   "metadata": {},
   "outputs": [
    {
     "name": "stdout",
     "output_type": "stream",
     "text": [
      "WasteStream: ws8\n",
      " phase: 'l', T: 298.15 K, P: 101325 Pa\n",
      " flow (kg/hr): X_AlOH  0.5\n",
      "               H2O     800\n",
      " WasteStream-specific properties:\n",
      "  pH         : 7.0\n",
      "  Alkalinity : 2.5 mg/L\n",
      " Component concentrations (mg/L):\n",
      "  X_AlOH       622.9\n",
      "  H2O          996625.6\n"
     ]
    }
   ],
   "source": [
    "ws9.show(flow='kg/hr')"
   ]
  },
  {
   "cell_type": "code",
   "execution_count": 24,
   "metadata": {},
   "outputs": [
    {
     "name": "stdout",
     "output_type": "stream",
     "text": [
      "WasteStream: ws9\n",
      " phase: 'l', T: 298.15 K, P: 101325 Pa\n",
      " flow (kg/hr): X_AlOH  0.5\n",
      "               H2O     200\n",
      " WasteStream-specific properties:\n",
      "  pH         : 7.0\n",
      "  Alkalinity : 2.5 mg/L\n",
      " Component concentrations (mg/L):\n",
      "  X_AlOH       2488.6\n",
      "  H2O          995430.2\n"
     ]
    }
   ],
   "source": [
    "ws10.show(flow='kg/hr')"
   ]
  },
  {
   "cell_type": "markdown",
   "metadata": {},
   "source": [
    "### 2.3. `composite`"
   ]
  },
  {
   "cell_type": "code",
   "execution_count": 25,
   "metadata": {},
   "outputs": [
    {
     "data": {
      "text/plain": [
       "250.1175328112893"
      ]
     },
     "execution_count": 25,
     "metadata": {},
     "output_type": "execute_result"
    }
   ],
   "source": [
    "# Most composite variables relevant to wastewater treatment are available as properties of the WasteStream object\n",
    "# for example\n",
    "ws3.COD"
   ]
  },
  {
   "cell_type": "code",
   "execution_count": 26,
   "metadata": {},
   "outputs": [],
   "source": [
    "# You can also try others such as TOC, TKN, TP, ThOD\n",
    "# ws3.TOC\n",
    "# ws3.TKN\n",
    "# ws3.TP\n",
    "# ws3.ThOD"
   ]
  },
  {
   "cell_type": "code",
   "execution_count": 27,
   "metadata": {},
   "outputs": [
    {
     "name": "stdout",
     "output_type": "stream",
     "text": [
      "Without colloidals, VSS for the waste stream is 91.3 mg/L.\n",
      "With colloidals, VSS for the stream is 109.7 mg/L.\n"
     ]
    }
   ],
   "source": [
    "# For composite variables related to dissolved or suspended solids, they are \n",
    "# available as methods (i.e., functions specifically for the WasteStream class),\n",
    "# because there are controversies around whether colloidal components should be \n",
    "# considered suspened or dissolved solids (default is to NOT include colloidals).\n",
    "print(f'Without colloidals, VSS for the waste stream is {ws3.get_VSS():.1f} mg/L.')\n",
    "print(f'With colloidals, VSS for the stream is {ws3.get_VSS(include_colloidal=True):.1f} mg/L.')"
   ]
  },
  {
   "cell_type": "code",
   "execution_count": 28,
   "metadata": {},
   "outputs": [
    {
     "name": "stdout",
     "output_type": "stream",
     "text": [
      "Without colloidals, VSS for the waste stream is 700.1 mg/L.\n",
      "With colloidals, VSS for the stream is 700.1 mg/L.\n"
     ]
    }
   ],
   "source": [
    "# Of course, this won't matter if the waste stream does not have colloidal components\n",
    "print(f'Without colloidals, VSS for the waste stream is {ws1.get_VSS():.1f} mg/L.')\n",
    "print(f'With colloidals, VSS for the stream is {ws1.get_VSS(include_colloidal=True):.1f} mg/L.')"
   ]
  },
  {
   "cell_type": "markdown",
   "metadata": {},
   "source": [
    "All the composite variables above (COD, VSS, etc.) are essentially calculated using the `composite` method. You can calculate all kinds of composite variables by specifying different arguments in this method."
   ]
  },
  {
   "cell_type": "code",
   "execution_count": 29,
   "metadata": {},
   "outputs": [],
   "source": [
    "?qs.WasteStream.composite"
   ]
  },
  {
   "cell_type": "code",
   "execution_count": 30,
   "metadata": {},
   "outputs": [
    {
     "data": {
      "text/plain": [
       "76.45092507909868"
      ]
     },
     "execution_count": 30,
     "metadata": {},
     "output_type": "execute_result"
    }
   ],
   "source": [
    "# For example, to calculate the particulate BOD (i.e., xBOD) of the WasteStream object,\n",
    "# you just need to specify the composite variable as \"BOD\", and particle size as \"x\"\n",
    "ws3.composite('BOD', particle_size='x')"
   ]
  },
  {
   "cell_type": "code",
   "execution_count": 31,
   "metadata": {},
   "outputs": [
    {
     "data": {
      "text/plain": [
       "0.0"
      ]
     },
     "execution_count": 31,
     "metadata": {},
     "output_type": "execute_result"
    }
   ],
   "source": [
    "# Biomass COD\n",
    "ws3.composite('COD', specification='X_Bio')"
   ]
  },
  {
   "cell_type": "code",
   "execution_count": 32,
   "metadata": {},
   "outputs": [
    {
     "data": {
      "text/plain": [
       "0.0"
      ]
     },
     "execution_count": 32,
     "metadata": {},
     "output_type": "execute_result"
    }
   ],
   "source": [
    "# Nitrogen as nitrate/nitrite \n",
    "ws3.composite('N', specification='S_NOx')"
   ]
  },
  {
   "cell_type": "code",
   "execution_count": 33,
   "metadata": {},
   "outputs": [
    {
     "data": {
      "text/plain": [
       "80.03761049961257"
      ]
     },
     "execution_count": 33,
     "metadata": {},
     "output_type": "execute_result"
    }
   ],
   "source": [
    "# Total organic carbon\n",
    "ws3.composite('C', organic=True)"
   ]
  },
  {
   "cell_type": "code",
   "execution_count": 34,
   "metadata": {},
   "outputs": [
    {
     "data": {
      "text/plain": [
       "473.0688855855991"
      ]
     },
     "execution_count": 34,
     "metadata": {},
     "output_type": "execute_result"
    }
   ],
   "source": [
    "# Total dissolved solids\n",
    "ws3.composite('solids', particle_size='s')"
   ]
  },
  {
   "cell_type": "code",
   "execution_count": 35,
   "metadata": {},
   "outputs": [
    {
     "data": {
      "text/plain": [
       "13.89541848951607"
      ]
     },
     "execution_count": 35,
     "metadata": {},
     "output_type": "execute_result"
    }
   ],
   "source": [
    "# soluble TKN\n",
    "ws3.composite('N', subgroup=cmps.TKN, particle_size='s')"
   ]
  },
  {
   "cell_type": "markdown",
   "metadata": {},
   "source": [
    "[Back to top](#top)"
   ]
  }
 ],
 "metadata": {
  "kernelspec": {
   "display_name": "Python 3 (ipykernel)",
   "language": "python",
   "name": "python3"
  },
  "language_info": {
   "codemirror_mode": {
    "name": "ipython",
    "version": 3
   },
   "file_extension": ".py",
   "mimetype": "text/x-python",
   "name": "python",
   "nbconvert_exporter": "python",
   "pygments_lexer": "ipython3",
   "version": "3.9.13"
  },
  "varInspector": {
   "cols": {
    "lenName": 16,
    "lenType": 16,
    "lenVar": 40
   },
   "kernels_config": {
    "python": {
     "delete_cmd_postfix": "",
     "delete_cmd_prefix": "del ",
     "library": "var_list.py",
     "varRefreshCmd": "print(var_dic_list())"
    },
    "r": {
     "delete_cmd_postfix": ") ",
     "delete_cmd_prefix": "rm(",
     "library": "var_list.r",
     "varRefreshCmd": "cat(var_dic_list()) "
    }
   },
   "types_to_exclude": [
    "module",
    "function",
    "builtin_function_or_method",
    "instance",
    "_Feature"
   ],
   "window_display": false
  }
 },
 "nbformat": 4,
 "nbformat_minor": 4
}
