{
 "cells": [
  {
   "cell_type": "code",
   "execution_count": 1,
   "metadata": {},
   "outputs": [],
   "source": [
    "import qsdsan as qs"
   ]
  },
  {
   "cell_type": "code",
   "execution_count": 2,
   "metadata": {},
   "outputs": [
    {
     "name": "stdout",
     "output_type": "stream",
     "text": [
      "CompiledComponents([S_H2, S_CH4, S_CH3OH, S_Ac, S_Prop, S_F, S_U_Inf, S_U_E, C_B_Subst, C_B_BAP, C_B_UAP, C_U_Inf, X_B_Subst, X_OHO_PHA, X_GAO_PHA, X_PAO_PHA, X_GAO_Gly, X_PAO_Gly, X_OHO, X_AOO, X_NOO, X_AMO, X_PAO, X_MEOLO, X_FO, X_ACO, X_HMO, X_PRO, X_U_Inf, X_U_OHO_E, X_U_PAO_E, X_Ig_ISS, X_MgCO3, X_CaCO3, X_MAP, X_HAP, X_HDP, X_FePO4, X_AlPO4, X_AlOH, X_FeOH, X_PAO_PP_Lo, X_PAO_PP_Hi, S_NH4, S_NO2, S_NO3, S_PO4, S_K, S_Ca, S_Mg, S_CO3, S_N2, S_O2, S_CAT, S_AN, H2O])\n"
     ]
    }
   ],
   "source": [
    "cmps = qs.Components.load_default()\n",
    "# cmps.compile()\n",
    "qs.set_thermo(cmps)\n",
    "cmps"
   ]
  },
  {
   "cell_type": "code",
   "execution_count": 3,
   "metadata": {},
   "outputs": [
    {
     "name": "stdout",
     "output_type": "stream",
     "text": [
      "WasteStream: inf\n",
      "phase: 'l', T: 298.15 K, P: 101325 Pa\n",
      "flow (kg/hr): H2O  4.15e+05\n",
      " WasteStream-specific properties:\n",
      "  pH         : 7.0\n",
      "  Alkalinity : 2.5 mg/L\n",
      "  COD        : 300.0 mg/L\n",
      "  BOD        : 400.0 mg/L\n",
      " Component concentrations (g/L):\n",
      "  H2O          997.1\n"
     ]
    }
   ],
   "source": [
    "inf = qs.WasteStream('inf', H2O=416666.67, COD=300, BOD=400, units='L/hr')\n",
    "inf.show(flow='kg/hr', concentrations='g/L')\n",
    "\n",
    "eff = qs.WasteStream('eff')\n",
    "WAS = qs.WasteStream('WAS')\n",
    "RAS = qs.WasteStream('RAS')"
   ]
  },
  {
   "cell_type": "code",
   "execution_count": 6,
   "metadata": {},
   "outputs": [
    {
     "ename": "UndefinedComponent",
     "evalue": "'X_S'",
     "output_type": "error",
     "traceback": [
      "\u001b[1;31m---------------------------------------------------------------------------\u001b[0m",
      "\u001b[1;31mKeyError\u001b[0m                                  Traceback (most recent call last)",
      "File \u001b[1;32mc:\\Users\\Aravi\\anaconda3\\envs\\qsdsan_new\\lib\\site-packages\\thermosteam\\_chemicals.py:1133\u001b[0m, in \u001b[0;36mCompiledChemicals._get_index_and_kind\u001b[1;34m(self, key)\u001b[0m\n\u001b[0;32m   1132\u001b[0m     \u001b[38;5;28;01mif\u001b[39;00m key\u001b[38;5;241m.\u001b[39m\u001b[38;5;21m__hash__\u001b[39m \u001b[38;5;129;01mis\u001b[39;00m \u001b[38;5;28;01mNone\u001b[39;00m: key \u001b[38;5;241m=\u001b[39m \u001b[38;5;28mtuple\u001b[39m(key)\n\u001b[1;32m-> 1133\u001b[0m     \u001b[38;5;28;01mreturn\u001b[39;00m \u001b[43mindex_cache\u001b[49m\u001b[43m[\u001b[49m\u001b[43mkey\u001b[49m\u001b[43m]\u001b[49m\n\u001b[0;32m   1134\u001b[0m \u001b[38;5;28;01mexcept\u001b[39;00m \u001b[38;5;167;01mKeyError\u001b[39;00m:\n",
      "\u001b[1;31mKeyError\u001b[0m: ('X_S', 'X_H', 'X_PP', 'X_PHA', 'X_AUT', 'X_PAO', 'S_I', 'S_F')",
      "\nDuring handling of the above exception, another exception occurred:\n",
      "\u001b[1;31mKeyError\u001b[0m                                  Traceback (most recent call last)",
      "File \u001b[1;32mc:\\Users\\Aravi\\OneDrive\\Desktop\\workspace\\QSDsan\\qsdsan\\_components.py:673\u001b[0m, in \u001b[0;36mCompiledComponents.indices\u001b[1;34m(self, IDs)\u001b[0m\n\u001b[0;32m    672\u001b[0m     dct \u001b[38;5;241m=\u001b[39m \u001b[38;5;28mself\u001b[39m\u001b[38;5;241m.\u001b[39m_index\n\u001b[1;32m--> 673\u001b[0m     \u001b[38;5;28;01mreturn\u001b[39;00m [dct[i] \u001b[38;5;28;01mfor\u001b[39;00m i \u001b[38;5;129;01min\u001b[39;00m IDs]\n\u001b[0;32m    674\u001b[0m \u001b[38;5;28;01mexcept\u001b[39;00m \u001b[38;5;167;01mKeyError\u001b[39;00m \u001b[38;5;28;01mas\u001b[39;00m key_error:\n",
      "File \u001b[1;32mc:\\Users\\Aravi\\OneDrive\\Desktop\\workspace\\QSDsan\\qsdsan\\_components.py:673\u001b[0m, in \u001b[0;36m<listcomp>\u001b[1;34m(.0)\u001b[0m\n\u001b[0;32m    672\u001b[0m     dct \u001b[38;5;241m=\u001b[39m \u001b[38;5;28mself\u001b[39m\u001b[38;5;241m.\u001b[39m_index\n\u001b[1;32m--> 673\u001b[0m     \u001b[38;5;28;01mreturn\u001b[39;00m [\u001b[43mdct\u001b[49m\u001b[43m[\u001b[49m\u001b[43mi\u001b[49m\u001b[43m]\u001b[49m \u001b[38;5;28;01mfor\u001b[39;00m i \u001b[38;5;129;01min\u001b[39;00m IDs]\n\u001b[0;32m    674\u001b[0m \u001b[38;5;28;01mexcept\u001b[39;00m \u001b[38;5;167;01mKeyError\u001b[39;00m \u001b[38;5;28;01mas\u001b[39;00m key_error:\n",
      "\u001b[1;31mKeyError\u001b[0m: 'X_S'",
      "\nDuring handling of the above exception, another exception occurred:\n",
      "\u001b[1;31mUndefinedComponent\u001b[0m                        Traceback (most recent call last)",
      "Cell \u001b[1;32mIn[6], line 20\u001b[0m\n\u001b[0;32m     14\u001b[0m kwargs \u001b[38;5;241m=\u001b[39m {\n\u001b[0;32m     15\u001b[0m     \u001b[38;5;124m'\u001b[39m\u001b[38;5;124mconcentrations\u001b[39m\u001b[38;5;124m'\u001b[39m: concentrations,\n\u001b[0;32m     16\u001b[0m     \u001b[38;5;124m'\u001b[39m\u001b[38;5;124munits\u001b[39m\u001b[38;5;124m'\u001b[39m: (\u001b[38;5;124m'\u001b[39m\u001b[38;5;124mm3/d\u001b[39m\u001b[38;5;124m'\u001b[39m, \u001b[38;5;124m'\u001b[39m\u001b[38;5;124mmg/L\u001b[39m\u001b[38;5;124m'\u001b[39m)  \n\u001b[0;32m     17\u001b[0m }\n\u001b[0;32m     19\u001b[0m Q \u001b[38;5;241m=\u001b[39m \u001b[38;5;241m18446\u001b[39m  \u001b[38;5;66;03m# flow rate in m3/d\u001b[39;00m\n\u001b[1;32m---> 20\u001b[0m inf\u001b[38;5;241m.\u001b[39mset_flow_by_concentration(Q, \u001b[38;5;241m*\u001b[39m\u001b[38;5;241m*\u001b[39mkwargs)\n",
      "File \u001b[1;32mc:\\Users\\Aravi\\OneDrive\\Desktop\\workspace\\QSDsan\\qsdsan\\_waste_stream.py:1147\u001b[0m, in \u001b[0;36mWasteStream.set_flow_by_concentration\u001b[1;34m(self, flow_tot, concentrations, units, bulk_liquid_ID, atol, maxiter)\u001b[0m\n\u001b[0;32m   1145\u001b[0m IDs \u001b[38;5;241m=\u001b[39m concentrations\u001b[38;5;241m.\u001b[39mkeys()\n\u001b[0;32m   1146\u001b[0m M_arr \u001b[38;5;241m=\u001b[39m C_arr\u001b[38;5;241m/\u001b[39mf\u001b[38;5;241m*\u001b[39mQ_tot\u001b[38;5;241m*\u001b[39m\u001b[38;5;241m1e-6\u001b[39m       \u001b[38;5;66;03m# mg/L * L/hr /1e6 = kg/hr\u001b[39;00m\n\u001b[1;32m-> 1147\u001b[0m \u001b[38;5;28;43mself\u001b[39;49m\u001b[38;5;241;43m.\u001b[39;49m\u001b[43mset_flow\u001b[49m\u001b[43m(\u001b[49m\u001b[43mM_arr\u001b[49m\u001b[43m,\u001b[49m\u001b[43m \u001b[49m\u001b[38;5;124;43m'\u001b[39;49m\u001b[38;5;124;43mkg/hr\u001b[39;49m\u001b[38;5;124;43m'\u001b[39;49m\u001b[43m,\u001b[49m\u001b[43m \u001b[49m\u001b[38;5;28;43mtuple\u001b[39;49m\u001b[43m(\u001b[49m\u001b[43mIDs\u001b[49m\u001b[43m)\u001b[49m\u001b[43m)\u001b[49m\n\u001b[0;32m   1149\u001b[0m \u001b[38;5;66;03m# Density of the mixture should be larger than the pure bulk liquid,\u001b[39;00m\n\u001b[0;32m   1150\u001b[0m \u001b[38;5;66;03m# give it a factor of 100 for safety\u001b[39;00m\n\u001b[0;32m   1151\u001b[0m bulk_cmp \u001b[38;5;241m=\u001b[39m \u001b[38;5;28mself\u001b[39m\u001b[38;5;241m.\u001b[39mcomponents[bulk_liquid_ID]\n",
      "File \u001b[1;32mc:\\Users\\Aravi\\anaconda3\\envs\\qsdsan_new\\lib\\site-packages\\thermosteam\\_stream.py:913\u001b[0m, in \u001b[0;36mStream.set_flow\u001b[1;34m(self, data, units, key)\u001b[0m\n\u001b[0;32m    911\u001b[0m name, factor \u001b[38;5;241m=\u001b[39m \u001b[38;5;28mself\u001b[39m\u001b[38;5;241m.\u001b[39m_get_flow_name_and_factor(units)\n\u001b[0;32m    912\u001b[0m indexer \u001b[38;5;241m=\u001b[39m \u001b[38;5;28mgetattr\u001b[39m(\u001b[38;5;28mself\u001b[39m, \u001b[38;5;124m'\u001b[39m\u001b[38;5;124mi\u001b[39m\u001b[38;5;124m'\u001b[39m \u001b[38;5;241m+\u001b[39m name)\n\u001b[1;32m--> 913\u001b[0m indexer[key] \u001b[38;5;241m=\u001b[39m np\u001b[38;5;241m.\u001b[39masarray(data, dtype\u001b[38;5;241m=\u001b[39m\u001b[38;5;28mfloat\u001b[39m) \u001b[38;5;241m/\u001b[39m factor\n",
      "File \u001b[1;32mc:\\Users\\Aravi\\anaconda3\\envs\\qsdsan_new\\lib\\site-packages\\thermosteam\\indexer.py:542\u001b[0m, in \u001b[0;36mChemicalIndexer.__setitem__\u001b[1;34m(self, key, data)\u001b[0m\n\u001b[0;32m    540\u001b[0m \u001b[38;5;28;01mdef\u001b[39;00m \u001b[38;5;21m__setitem__\u001b[39m(\u001b[38;5;28mself\u001b[39m, key, data):\n\u001b[0;32m    541\u001b[0m     set_sparse_chemical_data(\n\u001b[1;32m--> 542\u001b[0m         \u001b[38;5;28mself\u001b[39m\u001b[38;5;241m.\u001b[39mdata, \u001b[38;5;241m*\u001b[39m\u001b[38;5;28;43mself\u001b[39;49m\u001b[38;5;241;43m.\u001b[39;49m\u001b[43m_chemicals\u001b[49m\u001b[38;5;241;43m.\u001b[39;49m\u001b[43m_get_index_and_kind\u001b[49m\u001b[43m(\u001b[49m\u001b[43mkey\u001b[49m\u001b[43m)\u001b[49m, \n\u001b[0;32m    543\u001b[0m         data, key, \u001b[38;5;28mself\u001b[39m\n\u001b[0;32m    544\u001b[0m     )\n",
      "File \u001b[1;32mc:\\Users\\Aravi\\anaconda3\\envs\\qsdsan_new\\lib\\site-packages\\thermosteam\\_chemicals.py:1146\u001b[0m, in \u001b[0;36mCompiledChemicals._get_index_and_kind\u001b[1;34m(self, key)\u001b[0m\n\u001b[0;32m   1144\u001b[0m     kind \u001b[38;5;241m=\u001b[39m \u001b[38;5;241m0\u001b[39m \u001b[38;5;28;01mif\u001b[39;00m isa(index, \u001b[38;5;28mint\u001b[39m) \u001b[38;5;28;01melse\u001b[39;00m \u001b[38;5;241m1\u001b[39m\n\u001b[0;32m   1145\u001b[0m \u001b[38;5;28;01melif\u001b[39;00m isa(key, \u001b[38;5;28mtuple\u001b[39m):\n\u001b[1;32m-> 1146\u001b[0m     index \u001b[38;5;241m=\u001b[39m \u001b[38;5;28;43mself\u001b[39;49m\u001b[38;5;241;43m.\u001b[39;49m\u001b[43mindices\u001b[49m\u001b[43m(\u001b[49m\u001b[43mkey\u001b[49m\u001b[43m)\u001b[49m\n\u001b[0;32m   1147\u001b[0m     \u001b[38;5;28;01mfor\u001b[39;00m i \u001b[38;5;129;01min\u001b[39;00m index:\n\u001b[0;32m   1148\u001b[0m         \u001b[38;5;28;01mif\u001b[39;00m isa(i, \u001b[38;5;28mlist\u001b[39m): \n",
      "File \u001b[1;32mc:\\Users\\Aravi\\OneDrive\\Desktop\\workspace\\QSDsan\\qsdsan\\_components.py:675\u001b[0m, in \u001b[0;36mCompiledComponents.indices\u001b[1;34m(self, IDs)\u001b[0m\n\u001b[0;32m    673\u001b[0m     \u001b[38;5;28;01mreturn\u001b[39;00m [dct[i] \u001b[38;5;28;01mfor\u001b[39;00m i \u001b[38;5;129;01min\u001b[39;00m IDs]\n\u001b[0;32m    674\u001b[0m \u001b[38;5;28;01mexcept\u001b[39;00m \u001b[38;5;167;01mKeyError\u001b[39;00m \u001b[38;5;28;01mas\u001b[39;00m key_error:\n\u001b[1;32m--> 675\u001b[0m     \u001b[38;5;28;01mraise\u001b[39;00m UndefinedComponent(key_error\u001b[38;5;241m.\u001b[39margs[\u001b[38;5;241m0\u001b[39m])\n",
      "\u001b[1;31mUndefinedComponent\u001b[0m: 'X_S'"
     ]
    }
   ],
   "source": [
    "concentrations = {\n",
    "    #'X_I': 26.5,    # Inert particulate organic material\n",
    "    'X_S': 409.75,  # Slowly biodegradable substrates\n",
    "    'X_H': 0.15,    # Heterotrophic biomass\n",
    "    'X_PP': 0.05,   # Polyphosphates\n",
    "    'X_PHA': 0.5,   # Polyhydroxyalkanoates\n",
    "    'X_AUT': 0,     # Autotrophic biomass\n",
    "    'X_PAO': 0,     # Phosphate accumulating organisms\n",
    "    'S_I': 14,\n",
    "    'S_F': 20.1\n",
    "}\n",
    "\n",
    "# Set the flow and concentrations\n",
    "kwargs = {\n",
    "    'concentrations': concentrations,\n",
    "    'units': ('m3/d', 'mg/L')  \n",
    "}\n",
    "\n",
    "Q = 18446  # flow rate in m3/d\n",
    "inf.set_flow_by_concentration(Q, **kwargs)"
   ]
  },
  {
   "cell_type": "code",
   "execution_count": 4,
   "metadata": {},
   "outputs": [
    {
     "name": "stdout",
     "output_type": "stream",
     "text": [
      "Clarifier diameter = 21.324361947589754 m. \n",
      "\n",
      "Total solids in the clarifier = 0.0 kg/hr. \n",
      "\n"
     ]
    },
    {
     "name": "stderr",
     "output_type": "stream",
     "text": [
      "c:\\Users\\Aravi\\OneDrive\\Desktop\\workspace\\QSDsan\\qsdsan\\sanunits\\_clarifier.py:675: UserWarning: Solids loading rate = 0.0 is not within 20% of the recommended design level of 5 kg/hr/m2\n",
      "  warn(f'Solids loading rate = {simulated_slr} is not within 20% of the recommended design level of {design_slr} kg/hr/m2')\n",
      "c:\\Users\\Aravi\\OneDrive\\Desktop\\workspace\\QSDsan\\qsdsan\\sanunits\\_clarifier.py:702: UserWarning: Diameter of the center feed does not lie between 20-25% of tank diameter. It is 16.666666666666668 % of tank diameter\n",
      "  warn(f'Diameter of the center feed does not lie between 20-25% of tank diameter. It is {cf_dia*100/tank_dia} % of tank diameter')\n"
     ]
    },
    {
     "ename": "FloatingPointError",
     "evalue": "invalid value encountered in divide",
     "output_type": "error",
     "traceback": [
      "\u001b[1;31m---------------------------------------------------------------------------\u001b[0m",
      "\u001b[1;31mFloatingPointError\u001b[0m                        Traceback (most recent call last)",
      "Cell \u001b[1;32mIn[4], line 3\u001b[0m\n\u001b[0;32m      1\u001b[0m su \u001b[38;5;241m=\u001b[39m qs\u001b[38;5;241m.\u001b[39msanunits\n\u001b[0;32m      2\u001b[0m C1 \u001b[38;5;241m=\u001b[39m su\u001b[38;5;241m.\u001b[39mFlatBottomCircularClarifier(\u001b[38;5;124m'\u001b[39m\u001b[38;5;124mC1\u001b[39m\u001b[38;5;124m'\u001b[39m, ins\u001b[38;5;241m=\u001b[39minf, outs\u001b[38;5;241m=\u001b[39m(eff,WAS, RAS), N_layer\u001b[38;5;241m=\u001b[39m\u001b[38;5;241m10\u001b[39m, feed_layer\u001b[38;5;241m=\u001b[39m\u001b[38;5;241m5\u001b[39m)\n\u001b[1;32m----> 3\u001b[0m \u001b[43mC1\u001b[49m\u001b[38;5;241;43m.\u001b[39;49m\u001b[43msimulate\u001b[49m\u001b[43m(\u001b[49m\u001b[43m)\u001b[49m\n\u001b[0;32m      4\u001b[0m C1\u001b[38;5;241m.\u001b[39mshow()\n",
      "File \u001b[1;32mc:\\Users\\Aravi\\OneDrive\\Desktop\\workspace\\QSDsan\\qsdsan\\_sanunit.py:413\u001b[0m, in \u001b[0;36mSanUnit.simulate\u001b[1;34m(self, run, design_kwargs, cost_kwargs, **kwargs)\u001b[0m\n\u001b[0;32m    411\u001b[0m sys\u001b[38;5;241m.\u001b[39m_feeds \u001b[38;5;241m=\u001b[39m \u001b[38;5;28mself\u001b[39m\u001b[38;5;241m.\u001b[39mins\n\u001b[0;32m    412\u001b[0m sys\u001b[38;5;241m.\u001b[39m_products \u001b[38;5;241m=\u001b[39m \u001b[38;5;28mself\u001b[39m\u001b[38;5;241m.\u001b[39mouts\n\u001b[1;32m--> 413\u001b[0m sys\u001b[38;5;241m.\u001b[39msimulate(\u001b[38;5;241m*\u001b[39m\u001b[38;5;241m*\u001b[39mkwargs)\n\u001b[0;32m    414\u001b[0m \u001b[38;5;28mself\u001b[39m\u001b[38;5;241m.\u001b[39m_summary()\n",
      "File \u001b[1;32mc:\\Users\\Aravi\\anaconda3\\envs\\qsdsan_new\\lib\\site-packages\\biosteam\\_system.py:2713\u001b[0m, in \u001b[0;36mSystem.simulate\u001b[1;34m(self, update_configuration, units, design_and_cost, **kwargs)\u001b[0m\n\u001b[0;32m   2693\u001b[0m \u001b[38;5;28;01mdef\u001b[39;00m \u001b[38;5;21msimulate\u001b[39m(\u001b[38;5;28mself\u001b[39m, update_configuration: Optional[\u001b[38;5;28mbool\u001b[39m]\u001b[38;5;241m=\u001b[39m\u001b[38;5;28;01mNone\u001b[39;00m, units\u001b[38;5;241m=\u001b[39m\u001b[38;5;28;01mNone\u001b[39;00m, \n\u001b[0;32m   2694\u001b[0m              design_and_cost\u001b[38;5;241m=\u001b[39m\u001b[38;5;28;01mNone\u001b[39;00m, \u001b[38;5;241m*\u001b[39m\u001b[38;5;241m*\u001b[39mkwargs):\n\u001b[0;32m   2695\u001b[0m \u001b[38;5;250m    \u001b[39m\u001b[38;5;124;03m\"\"\"\u001b[39;00m\n\u001b[0;32m   2696\u001b[0m \u001b[38;5;124;03m    If system is dynamic, run the system dynamically. Otherwise, converge \u001b[39;00m\n\u001b[0;32m   2697\u001b[0m \u001b[38;5;124;03m    the path of unit operations to steady state. After running/converging \u001b[39;00m\n\u001b[1;32m   (...)\u001b[0m\n\u001b[0;32m   2711\u001b[0m \u001b[38;5;124;03m        \u001b[39;00m\n\u001b[0;32m   2712\u001b[0m \u001b[38;5;124;03m    \"\"\"\u001b[39;00m\n\u001b[1;32m-> 2713\u001b[0m     \u001b[38;5;28;01mwith\u001b[39;00m \u001b[38;5;28mself\u001b[39m\u001b[38;5;241m.\u001b[39mflowsheet:\n\u001b[0;32m   2714\u001b[0m         specifications \u001b[38;5;241m=\u001b[39m \u001b[38;5;28mself\u001b[39m\u001b[38;5;241m.\u001b[39m_specifications\n\u001b[0;32m   2715\u001b[0m         \u001b[38;5;28;01mif\u001b[39;00m specifications \u001b[38;5;129;01mand\u001b[39;00m \u001b[38;5;129;01mnot\u001b[39;00m \u001b[38;5;28mself\u001b[39m\u001b[38;5;241m.\u001b[39m_running_specifications:\n",
      "File \u001b[1;32mc:\\Users\\Aravi\\anaconda3\\envs\\qsdsan_new\\lib\\site-packages\\biosteam\\_flowsheet.py:120\u001b[0m, in \u001b[0;36mFlowsheet.__exit__\u001b[1;34m(self, type, exception, traceback)\u001b[0m\n\u001b[0;32m    118\u001b[0m \u001b[38;5;28;01mdef\u001b[39;00m \u001b[38;5;21m__exit__\u001b[39m(\u001b[38;5;28mself\u001b[39m, \u001b[38;5;28mtype\u001b[39m, exception, traceback):\n\u001b[0;32m    119\u001b[0m     main_flowsheet\u001b[38;5;241m.\u001b[39mset_flowsheet(\u001b[38;5;28mself\u001b[39m\u001b[38;5;241m.\u001b[39m_temporary_stack\u001b[38;5;241m.\u001b[39mpop())\n\u001b[1;32m--> 120\u001b[0m     \u001b[38;5;28;01mif\u001b[39;00m exception: \u001b[38;5;28;01mraise\u001b[39;00m exception\n",
      "File \u001b[1;32mc:\\Users\\Aravi\\anaconda3\\envs\\qsdsan_new\\lib\\site-packages\\biosteam\\_system.py:2752\u001b[0m, in \u001b[0;36mSystem.simulate\u001b[1;34m(self, update_configuration, units, design_and_cost, **kwargs)\u001b[0m\n\u001b[0;32m   2750\u001b[0m \u001b[38;5;28mself\u001b[39m\u001b[38;5;241m.\u001b[39m_setup(update_configuration, units)\n\u001b[0;32m   2751\u001b[0m \u001b[38;5;28;01mif\u001b[39;00m \u001b[38;5;28mself\u001b[39m\u001b[38;5;241m.\u001b[39misdynamic: \n\u001b[1;32m-> 2752\u001b[0m     outputs \u001b[38;5;241m=\u001b[39m \u001b[38;5;28mself\u001b[39m\u001b[38;5;241m.\u001b[39mdynamic_run(\u001b[38;5;241m*\u001b[39m\u001b[38;5;241m*\u001b[39mkwargs)\n\u001b[0;32m   2753\u001b[0m     \u001b[38;5;28;01mif\u001b[39;00m design_and_cost: \u001b[38;5;28mself\u001b[39m\u001b[38;5;241m.\u001b[39m_summary()\n\u001b[0;32m   2754\u001b[0m \u001b[38;5;28;01melse\u001b[39;00m:\n",
      "File \u001b[1;32mc:\\Users\\Aravi\\anaconda3\\envs\\qsdsan_new\\lib\\site-packages\\biosteam\\_system.py:2844\u001b[0m, in \u001b[0;36mSystem.dynamic_run\u001b[1;34m(self, **dynsim_kwargs)\u001b[0m\n\u001b[0;32m   2842\u001b[0m \u001b[38;5;66;03m# Load initial states\u001b[39;00m\n\u001b[0;32m   2843\u001b[0m \u001b[38;5;28mself\u001b[39m\u001b[38;5;241m.\u001b[39mconverge()\n\u001b[1;32m-> 2844\u001b[0m y0, idx, nr \u001b[38;5;241m=\u001b[39m \u001b[38;5;28;43mself\u001b[39;49m\u001b[38;5;241;43m.\u001b[39;49m\u001b[43m_load_state\u001b[49m\u001b[43m(\u001b[49m\u001b[43m)\u001b[49m\n\u001b[0;32m   2845\u001b[0m dk[\u001b[38;5;124m'\u001b[39m\u001b[38;5;124my0\u001b[39m\u001b[38;5;124m'\u001b[39m] \u001b[38;5;241m=\u001b[39m y0\n\u001b[0;32m   2846\u001b[0m \u001b[38;5;66;03m# Integrate\u001b[39;00m\n",
      "File \u001b[1;32mc:\\Users\\Aravi\\anaconda3\\envs\\qsdsan_new\\lib\\site-packages\\biosteam\\_system.py:2613\u001b[0m, in \u001b[0;36mSystem._load_state\u001b[1;34m(self)\u001b[0m\n\u001b[0;32m   2611\u001b[0m \u001b[38;5;28;01mfor\u001b[39;00m unit \u001b[38;5;129;01min\u001b[39;00m units: \n\u001b[0;32m   2612\u001b[0m     unit\u001b[38;5;241m.\u001b[39m_init_state()\n\u001b[1;32m-> 2613\u001b[0m     \u001b[43munit\u001b[49m\u001b[38;5;241;43m.\u001b[39;49m\u001b[43m_update_state\u001b[49m\u001b[43m(\u001b[49m\u001b[43m)\u001b[49m\n\u001b[0;32m   2614\u001b[0m     unit\u001b[38;5;241m.\u001b[39m_update_dstate()\n\u001b[0;32m   2615\u001b[0m     \u001b[38;5;28;01mif\u001b[39;00m unit\u001b[38;5;241m.\u001b[39mhasode:\n",
      "File \u001b[1;32mc:\\Users\\Aravi\\OneDrive\\Desktop\\workspace\\QSDsan\\qsdsan\\sanunits\\_clarifier.py:414\u001b[0m, in \u001b[0;36mFlatBottomCircularClarifier._update_state\u001b[1;34m(self)\u001b[0m\n\u001b[0;32m    412\u001b[0m imass \u001b[38;5;241m=\u001b[39m \u001b[38;5;28mself\u001b[39m\u001b[38;5;241m.\u001b[39mcomponents\u001b[38;5;241m.\u001b[39mi_mass\n\u001b[0;32m    413\u001b[0m C_in \u001b[38;5;241m=\u001b[39m inf\u001b[38;5;241m.\u001b[39mstate[:\u001b[38;5;241m-\u001b[39m\u001b[38;5;241m1\u001b[39m]\n\u001b[1;32m--> 414\u001b[0m X_composition \u001b[38;5;241m=\u001b[39m \u001b[38;5;28mself\u001b[39m\u001b[38;5;241m.\u001b[39m_X_comp \u001b[38;5;241m=\u001b[39m \u001b[43mC_in\u001b[49m\u001b[38;5;241;43m*\u001b[39;49m\u001b[43mx\u001b[49m\u001b[38;5;241;43m/\u001b[39;49m\u001b[38;5;28;43msum\u001b[39;49m\u001b[43m(\u001b[49m\u001b[43mC_in\u001b[49m\u001b[38;5;241;43m*\u001b[39;49m\u001b[43mimass\u001b[49m\u001b[38;5;241;43m*\u001b[39;49m\u001b[43mx\u001b[49m\u001b[43m)\u001b[49m\n\u001b[0;32m    415\u001b[0m X_e \u001b[38;5;241m=\u001b[39m arr[\u001b[38;5;241m-\u001b[39mn] \u001b[38;5;241m*\u001b[39m X_composition\n\u001b[0;32m    416\u001b[0m C_s \u001b[38;5;241m=\u001b[39m Z \u001b[38;5;241m+\u001b[39m arr[\u001b[38;5;241m-\u001b[39m\u001b[38;5;241m1\u001b[39m] \u001b[38;5;241m*\u001b[39m X_composition\n",
      "\u001b[1;31mFloatingPointError\u001b[0m: invalid value encountered in divide"
     ]
    }
   ],
   "source": [
    "su = qs.sanunits\n",
    "C1 = su.FlatBottomCircularClarifier('C1', ins=inf, outs=(eff,WAS, RAS), N_layer=10, feed_layer=5)\n",
    "C1.simulate()\n",
    "C1.show()"
   ]
  },
  {
   "cell_type": "code",
   "execution_count": null,
   "metadata": {},
   "outputs": [],
   "source": []
  },
  {
   "cell_type": "code",
   "execution_count": null,
   "metadata": {},
   "outputs": [],
   "source": []
  }
 ],
 "metadata": {
  "kernelspec": {
   "display_name": "qsdsan_new",
   "language": "python",
   "name": "python3"
  },
  "language_info": {
   "codemirror_mode": {
    "name": "ipython",
    "version": 3
   },
   "file_extension": ".py",
   "mimetype": "text/x-python",
   "name": "python",
   "nbconvert_exporter": "python",
   "pygments_lexer": "ipython3",
   "version": "3.10.14"
  }
 },
 "nbformat": 4,
 "nbformat_minor": 2
}
